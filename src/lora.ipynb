{
 "cells": [
  {
   "cell_type": "code",
   "execution_count": 1,
   "metadata": {},
   "outputs": [
    {
     "name": "stderr",
     "output_type": "stream",
     "text": [
      "/home/ljf1/dis/lora/lib/python3.12/site-packages/tqdm/auto.py:21: TqdmWarning: IProgress not found. Please update jupyter and ipywidgets. See https://ipywidgets.readthedocs.io/en/stable/user_install.html\n",
      "  from .autonotebook import tqdm as notebook_tqdm\n",
      "Sliding Window Attention is enabled but not implemented for `sdpa`; unexpected results may be encountered.\n"
     ]
    }
   ],
   "source": [
    "import math\n",
    "import random\n",
    "import torch\n",
    "import torch.nn as nn\n",
    "from torch.utils.data import DataLoader, TensorDataset\n",
    "from tqdm import tqdm\n",
    "from accelerate import Accelerator\n",
    "\n",
    "from preprocessor import load_and_preprocess, decoding, process_data\n",
    "from qwen import load_qwen\n",
    "\n",
    "import numpy as np\n",
    "\n",
    "import matplotlib.pyplot as plt\n",
    "\n",
    "from torch.optim.lr_scheduler import StepLR, CosineAnnealingLR\n",
    "from transformers import get_cosine_schedule_with_warmup\n",
    "from preprocessor import get_dataset\n",
    "\n",
    "import wandb\n",
    "import joblib\n",
    "\n",
    "from sklearn.metrics import mean_squared_error, mean_absolute_error, r2_score"
   ]
  },
  {
   "cell_type": "code",
   "execution_count": 2,
   "metadata": {},
   "outputs": [],
   "source": [
    "#for matplotlib plots\n",
    "SMALL_SIZE = 15+5\n",
    "MEDIUM_SIZE = 20+5\n",
    "BIGGER_SIZE = 25+5\n",
    "\n",
    "plt.rc('font', size=SMALL_SIZE)\n",
    "plt.rc('axes', titlesize=SMALL_SIZE)\n",
    "plt.rc('axes', labelsize=MEDIUM_SIZE)\n",
    "plt.rc('xtick', labelsize=SMALL_SIZE)\n",
    "plt.rc('ytick', labelsize=SMALL_SIZE)\n",
    "plt.rc('legend', fontsize=SMALL_SIZE)\n",
    "plt.rc('figure', titlesize=BIGGER_SIZE)"
   ]
  },
  {
   "cell_type": "code",
   "execution_count": 3,
   "metadata": {},
   "outputs": [],
   "source": [
    "best_overall_params = joblib.load(\"best_overall_params.joblib\")"
   ]
  },
  {
   "cell_type": "code",
   "execution_count": 4,
   "metadata": {},
   "outputs": [],
   "source": [
    "lora_rank = best_overall_params['lora_rank']\n",
    "lora_alpha = 2*lora_rank\n",
    "batch_size = 4\n",
    "learning_rate = best_overall_params['learning_rate']\n",
    "test_size = 0.2\n",
    "max_steps = 5000\n",
    "max_ctx_length = best_overall_params['max_ctx_length']\n",
    "points = 80\n",
    "T_max = max_steps\n",
    "# warmup_steps = int(0.075*max_steps)\n",
    "# num_training_steps = max_steps"
   ]
  },
  {
   "cell_type": "code",
   "execution_count": 5,
   "metadata": {},
   "outputs": [
    {
     "name": "stdout",
     "output_type": "stream",
     "text": [
      "lora_rank:  8\n",
      "lora_alpha:  16\n",
      "learning_rate 0.0001\n",
      "768\n"
     ]
    }
   ],
   "source": [
    "print(\"lora_rank: \", lora_rank)\n",
    "print(\"lora_alpha: \", lora_alpha)\n",
    "print(\"learning_rate\", learning_rate)\n",
    "print(max_ctx_length)"
   ]
  },
  {
   "cell_type": "code",
   "execution_count": 6,
   "metadata": {},
   "outputs": [
    {
     "name": "stderr",
     "output_type": "stream",
     "text": [
      "\u001b[34m\u001b[1mwandb\u001b[0m: Using wandb-core as the SDK backend.  Please refer to https://wandb.me/wandb-core for more information.\n",
      "\u001b[34m\u001b[1mwandb\u001b[0m: Currently logged in as: \u001b[33mljustfung\u001b[0m (\u001b[33mljustfung-university-of-cambridge\u001b[0m) to \u001b[32mhttps://api.wandb.ai\u001b[0m. Use \u001b[1m`wandb login --relogin`\u001b[0m to force relogin\n"
     ]
    },
    {
     "data": {
      "text/html": [
       "Tracking run with wandb version 0.19.8"
      ],
      "text/plain": [
       "<IPython.core.display.HTML object>"
      ]
     },
     "metadata": {},
     "output_type": "display_data"
    },
    {
     "data": {
      "text/html": [
       "Run data is saved locally in <code>/home/ljf1/dis/tsllm/src/wandb/run-20250329_082248-o81lknrg</code>"
      ],
      "text/plain": [
       "<IPython.core.display.HTML object>"
      ]
     },
     "metadata": {},
     "output_type": "display_data"
    },
    {
     "data": {
      "text/html": [
       "Syncing run <strong><a href='https://wandb.ai/ljustfung-university-of-cambridge/lora_qwen/runs/o81lknrg' target=\"_blank\">deep-sky-30</a></strong> to <a href='https://wandb.ai/ljustfung-university-of-cambridge/lora_qwen' target=\"_blank\">Weights & Biases</a> (<a href='https://wandb.me/developer-guide' target=\"_blank\">docs</a>)<br>"
      ],
      "text/plain": [
       "<IPython.core.display.HTML object>"
      ]
     },
     "metadata": {},
     "output_type": "display_data"
    },
    {
     "data": {
      "text/html": [
       " View project at <a href='https://wandb.ai/ljustfung-university-of-cambridge/lora_qwen' target=\"_blank\">https://wandb.ai/ljustfung-university-of-cambridge/lora_qwen</a>"
      ],
      "text/plain": [
       "<IPython.core.display.HTML object>"
      ]
     },
     "metadata": {},
     "output_type": "display_data"
    },
    {
     "data": {
      "text/html": [
       " View run at <a href='https://wandb.ai/ljustfung-university-of-cambridge/lora_qwen/runs/o81lknrg' target=\"_blank\">https://wandb.ai/ljustfung-university-of-cambridge/lora_qwen/runs/o81lknrg</a>"
      ],
      "text/plain": [
       "<IPython.core.display.HTML object>"
      ]
     },
     "metadata": {},
     "output_type": "display_data"
    },
    {
     "data": {
      "text/html": [
       "<button onClick=\"this.nextSibling.style.display='block';this.style.display='none';\">Display W&B run</button><iframe src='https://wandb.ai/ljustfung-university-of-cambridge/lora_qwen/runs/o81lknrg?jupyter=true' style='border:none;width:100%;height:420px;display:none;'></iframe>"
      ],
      "text/plain": [
       "<wandb.sdk.wandb_run.Run at 0x7fa5f672c200>"
      ]
     },
     "execution_count": 6,
     "metadata": {},
     "output_type": "execute_result"
    }
   ],
   "source": [
    "wandb.init(project=\"lora_qwen\", config={\n",
    "    \"learning_rate\": learning_rate,\n",
    "    \"batch_size\": batch_size,\n",
    "    \"lora_rank\": lora_rank,\n",
    "    \"max_steps\": max_steps,\n",
    "    \"max_ctx_length\": max_ctx_length,\n",
    "    \"test_and_val_size\": test_size,\n",
    "    \"T_max\": T_max,\n",
    "    # \"warmup_steps\": warmup_steps,\n",
    "    # \"num_training_steps\": num_training_steps\n",
    "})"
   ]
  },
  {
   "cell_type": "code",
   "execution_count": 7,
   "metadata": {},
   "outputs": [],
   "source": [
    "def running_mse(prediction, actual):\n",
    "    mse = []\n",
    "    for i in range(len(prediction)):\n",
    "        mse.append(mean_squared_error(prediction[:i+1], actual[:i+1]))\n",
    "    return mse\n",
    "\n",
    "def evaluate_model(model, val_loader, step, max_batches=None):\n",
    "    model.eval()\n",
    "    total_loss = 0\n",
    "    \n",
    "    with torch.no_grad():\n",
    "        for batch_idx, (batch,) in enumerate(tqdm(val_loader, desc=\"val set\")):\n",
    "            # Exit loop after processing max_batches\n",
    "            if max_batches is not None and batch_idx >= max_batches:\n",
    "                break\n",
    "            outputs = model(batch, labels=batch)\n",
    "            loss = outputs.loss\n",
    "            total_loss += loss.item()\n",
    "            \n",
    "    \n",
    "    # Calculate metrics - divide by actual number of batches processed\n",
    "    num_batches = min(len(val_loader), max_batches) if max_batches is not None else len(val_loader)\n",
    "    avg_loss = total_loss / num_batches\n",
    "\n",
    "    print(f'Loss on validation subset ({num_batches}/{len(val_loader)} batches) at step {step}: {avg_loss:.4f}')\n",
    "    return avg_loss"
   ]
  },
  {
   "cell_type": "code",
   "execution_count": 8,
   "metadata": {},
   "outputs": [],
   "source": [
    "class LoRALinear(nn.Module):\n",
    "    def __init__(self, original_linear: nn.Linear, r: int, alpha: int = None):\n",
    "        super().__init__()\n",
    "        assert isinstance(original_linear, nn.Linear)\n",
    "        self.original_linear = original_linear\n",
    "        self.original_linear.weight.requires_grad = False\n",
    "        if self.original_linear.bias is not None:\n",
    "            self.original_linear.bias.requires_grad = False\n",
    "        in_dim = original_linear.in_features\n",
    "        out_dim = original_linear.out_features\n",
    "        self.r = r\n",
    "        self.alpha = alpha if alpha else r\n",
    "\n",
    "        device = original_linear.weight.device\n",
    "        self.A = nn.Parameter(torch.empty(r, in_dim, device=device))\n",
    "        self.B = nn.Parameter(torch.zeros(out_dim, r, device=device))\n",
    "        \n",
    "        # Initialise A with He initialization\n",
    "        nn.init.kaiming_normal_(self.A, nonlinearity=\"linear\")\n",
    "\n",
    "    def forward(self, x):\n",
    "        base_out = self.original_linear(x)\n",
    "        lora_out = (x @ self.A.T) @ self.B.T\n",
    "        return base_out + lora_out * (self.alpha / self.r)\n",
    "\n",
    "\n",
    "model, tokenizer = load_qwen()\n",
    "tokenizer.padding_side = 'left'\n",
    "\n",
    "# Actually apply LoRA to the model:\n",
    "for layer in model.model.layers:\n",
    "    layer.self_attn.q_proj = LoRALinear(layer.self_attn.q_proj, r=lora_rank, alpha = lora_alpha)\n",
    "    layer.self_attn.v_proj = LoRALinear(layer.self_attn.v_proj, r=lora_rank, alpha = lora_alpha)\n",
    "# ^These are the parts that will actually be trained!\n",
    "\n",
    "for name, param in model.named_parameters():\n",
    "    if \"A\" in name or \"B\" in name:\n",
    "        param.requires_grad = True\n",
    "    else:\n",
    "        param.requires_grad = False\n",
    "\n",
    "\n",
    "# Process the data into sequences of text\n",
    "train_texts, val_texts, test_texts = load_and_preprocess(\"lotka_volterra_data.h5\", test_size=test_size)\n",
    "\n",
    "# ^Each of these is a `list[str]` representing contiguous parts of the time series,\n",
    "#  in text form (using the LLMTIME scheme)."
   ]
  },
  {
   "cell_type": "code",
   "execution_count": 9,
   "metadata": {},
   "outputs": [],
   "source": [
    "# Modified tokenization with chunking\n",
    "def process_sequences(texts, tokenizer, max_length=512, stride=256):\n",
    "    all_input_ids = []\n",
    "    for text in texts:\n",
    "        # Apply Qwen's tokenization scheme to the text:\n",
    "        encoding = tokenizer(text, return_tensors=\"pt\", add_special_tokens=False, padding_side='left')\n",
    "        seq_ids = encoding.input_ids[0]\n",
    "\n",
    "        # Create sliding windows to further divide the data into chunks:\n",
    "        for i in range(0, len(seq_ids), stride):\n",
    "            chunk = seq_ids[i : i + max_length]\n",
    "            if len(chunk) < max_length:\n",
    "                chunk = torch.cat(\n",
    "                    [\n",
    "                        torch.full((max_length - len(chunk),), tokenizer.pad_token_id),\n",
    "                        chunk,\n",
    "                    ]\n",
    "                )\n",
    "            all_input_ids.append(chunk)\n",
    "    return torch.stack(all_input_ids)\n",
    "\n",
    "\n",
    "def process_data(texts, tokenizer, points=80):\n",
    "    given_input_ids = []\n",
    "    for text in texts:\n",
    "        given_text = ';'.join([chunk for i, chunk in enumerate(text.split(';')) if i < points])\n",
    "        encoding_given = tokenizer(given_text, return_tensors=\"pt\", padding='max_length', padding_side='left', max_length=1200)\n",
    "        given_input_ids.append(encoding_given.input_ids[0])\n",
    "    return np.stack([text for text in texts]), torch.stack(given_input_ids)\n",
    "\n",
    "# Defines the maximum context length for the model\n",
    "train_input_ids = process_sequences(\n",
    "    train_texts, tokenizer, max_ctx_length, stride=max_ctx_length // 2\n",
    ")\n",
    "val_input_ids = process_sequences(\n",
    "    val_texts, tokenizer, max_ctx_length, stride=max_ctx_length\n",
    ")\n",
    "test_texts_all, test_input_ids_some = process_data(\n",
    "    test_texts, tokenizer, points=points\n",
    ")\n",
    "\n",
    "optimizer = torch.optim.Adam(\n",
    "    (p for p in model.parameters() if p.requires_grad), lr=learning_rate\n",
    ")\n",
    "\n",
    "# scheduler = StepLR(optimizer, step_size=step_size, gamma=gamma)\n",
    "scheduler = CosineAnnealingLR(optimizer, T_max=max_steps)\n",
    "# scheduler = get_cosine_schedule_with_warmup(optimizer, num_warmup_steps=warmup_steps, num_training_steps=num_training_steps)\n",
    "\n",
    "train_dataset = TensorDataset(train_input_ids)\n",
    "train_loader = DataLoader(train_dataset, batch_size=batch_size, shuffle=True)\n",
    "\n",
    "val_dataset = TensorDataset(val_input_ids)\n",
    "val_loader = DataLoader(val_dataset, batch_size=batch_size, shuffle=True)\n",
    "\n",
    "test_dataset = TensorDataset(test_input_ids_some)\n",
    "test_loader = DataLoader(test_dataset, shuffle=False)\n",
    "\n",
    "# Prepare components with Accelerator\n",
    "accelerator = Accelerator(mixed_precision='fp16')\n",
    "model, optimizer, train_loader, scheduler, val_loader = accelerator.prepare(model, optimizer, \n",
    "                                                                                         train_loader, \n",
    "                                                                                         scheduler, \n",
    "                                                                                         val_loader\n",
    "                                                                                         )"
   ]
  },
  {
   "cell_type": "code",
   "execution_count": 10,
   "metadata": {},
   "outputs": [
    {
     "name": "stderr",
     "output_type": "stream",
     "text": [
      "val set: 100%|██████████| 50/50 [02:00<00:00,  2.40s/it]it, loss=0.557]\n",
      "Steps 0:   6%|▋         | 50/800 [07:34<8:51:36, 42.53s/it, loss=0.557]"
     ]
    },
    {
     "name": "stdout",
     "output_type": "stream",
     "text": [
      "Loss on validation subset (50/50 batches) at step 50: 0.7882\n"
     ]
    },
    {
     "name": "stderr",
     "output_type": "stream",
     "text": [
      "val set: 100%|██████████| 50/50 [01:38<00:00,  1.97s/it]it, loss=0.748]\n",
      "Steps 0:  12%|█▎        | 100/800 [13:48<6:50:54, 35.22s/it, loss=0.748]"
     ]
    },
    {
     "name": "stdout",
     "output_type": "stream",
     "text": [
      "Loss on validation subset (50/50 batches) at step 100: 0.7212\n"
     ]
    },
    {
     "name": "stderr",
     "output_type": "stream",
     "text": [
      "val set: 100%|██████████| 50/50 [03:00<00:00,  3.60s/it]t, loss=0.595]  \n",
      "Steps 0:  19%|█▉        | 150/800 [21:14<10:42:01, 59.26s/it, loss=0.595]"
     ]
    },
    {
     "name": "stdout",
     "output_type": "stream",
     "text": [
      "Loss on validation subset (50/50 batches) at step 150: 0.6899\n"
     ]
    },
    {
     "name": "stderr",
     "output_type": "stream",
     "text": [
      "val set: 100%|██████████| 50/50 [02:35<00:00,  3.10s/it]/it, loss=0.533] \n",
      "Steps 0:  25%|██▌       | 200/800 [32:04<9:15:08, 55.51s/it, loss=0.533]"
     ]
    },
    {
     "name": "stdout",
     "output_type": "stream",
     "text": [
      "Loss on validation subset (50/50 batches) at step 200: 0.6666\n"
     ]
    },
    {
     "name": "stderr",
     "output_type": "stream",
     "text": [
      "val set: 100%|██████████| 50/50 [02:52<00:00,  3.45s/it]/it, loss=0.619]\n",
      "Steps 0:  31%|███▏      | 250/800 [43:27<9:24:15, 61.56s/it, loss=0.619]"
     ]
    },
    {
     "name": "stdout",
     "output_type": "stream",
     "text": [
      "Loss on validation subset (50/50 batches) at step 250: 0.6536\n"
     ]
    },
    {
     "name": "stderr",
     "output_type": "stream",
     "text": [
      "val set: 100%|██████████| 50/50 [02:45<00:00,  3.31s/it]/it, loss=0.265] \n",
      "Steps 0:  38%|███▊      | 300/800 [56:04<8:40:53, 62.51s/it, loss=0.265]"
     ]
    },
    {
     "name": "stdout",
     "output_type": "stream",
     "text": [
      "Loss on validation subset (50/50 batches) at step 300: 0.6435\n"
     ]
    },
    {
     "name": "stderr",
     "output_type": "stream",
     "text": [
      "val set: 100%|██████████| 50/50 [03:12<00:00,  3.85s/it]2s/it, loss=0.305]\n",
      "Steps 0:  44%|████▍     | 350/800 [1:08:30<8:36:03, 68.81s/it, loss=0.305]"
     ]
    },
    {
     "name": "stdout",
     "output_type": "stream",
     "text": [
      "Loss on validation subset (50/50 batches) at step 350: 0.6336\n"
     ]
    },
    {
     "name": "stderr",
     "output_type": "stream",
     "text": [
      "val set: 100%|██████████| 50/50 [04:34<00:00,  5.48s/it]6s/it, loss=0.634]\n",
      "Steps 0:  50%|█████     | 400/800 [1:23:19<10:44:15, 96.64s/it, loss=0.634]"
     ]
    },
    {
     "name": "stdout",
     "output_type": "stream",
     "text": [
      "Loss on validation subset (50/50 batches) at step 400: 0.6285\n"
     ]
    },
    {
     "name": "stderr",
     "output_type": "stream",
     "text": [
      "val set: 100%|██████████| 50/50 [02:09<00:00,  2.60s/it]/it, loss=0.452]   \n",
      "Steps 0:  56%|█████▋    | 450/800 [1:30:44<4:20:34, 44.67s/it, loss=0.452]"
     ]
    },
    {
     "name": "stdout",
     "output_type": "stream",
     "text": [
      "Loss on validation subset (50/50 batches) at step 450: 0.6193\n"
     ]
    },
    {
     "name": "stderr",
     "output_type": "stream",
     "text": [
      "val set: 100%|██████████| 50/50 [03:31<00:00,  4.24s/it]3s/it, loss=0.456]\n",
      "Steps 0:  62%|██████▎   | 500/800 [1:45:32<6:29:24, 77.88s/it, loss=0.456]"
     ]
    },
    {
     "name": "stdout",
     "output_type": "stream",
     "text": [
      "Loss on validation subset (50/50 batches) at step 500: 0.6159\n"
     ]
    },
    {
     "name": "stderr",
     "output_type": "stream",
     "text": [
      "val set: 100%|██████████| 50/50 [01:29<00:00,  1.80s/it]/it, loss=0.421]  \n",
      "Steps 0:  69%|██████▉   | 550/800 [1:56:30<2:20:49, 33.80s/it, loss=0.421]"
     ]
    },
    {
     "name": "stdout",
     "output_type": "stream",
     "text": [
      "Loss on validation subset (50/50 batches) at step 550: 0.6063\n"
     ]
    },
    {
     "name": "stderr",
     "output_type": "stream",
     "text": [
      "val set: 100%|██████████| 50/50 [01:35<00:00,  1.92s/it]/it, loss=0.558]  \n",
      "Steps 0:  75%|███████▌  | 600/800 [2:03:42<2:03:28, 37.04s/it, loss=0.558]"
     ]
    },
    {
     "name": "stdout",
     "output_type": "stream",
     "text": [
      "Loss on validation subset (50/50 batches) at step 600: 0.6013\n"
     ]
    },
    {
     "name": "stderr",
     "output_type": "stream",
     "text": [
      "val set: 100%|██████████| 50/50 [01:49<00:00,  2.19s/it]/it, loss=0.72]   \n",
      "Steps 0:  81%|████████▏ | 650/800 [2:10:40<1:37:09, 38.86s/it, loss=0.72]"
     ]
    },
    {
     "name": "stdout",
     "output_type": "stream",
     "text": [
      "Loss on validation subset (50/50 batches) at step 650: 0.6024\n"
     ]
    },
    {
     "name": "stderr",
     "output_type": "stream",
     "text": [
      "val set: 100%|██████████| 50/50 [03:25<00:00,  4.12s/it]/it, loss=0.725]  \n",
      "Steps 0:  88%|████████▊ | 700/800 [2:22:30<2:03:54, 74.35s/it, loss=0.725]"
     ]
    },
    {
     "name": "stdout",
     "output_type": "stream",
     "text": [
      "Loss on validation subset (50/50 batches) at step 700: 0.5945\n"
     ]
    },
    {
     "name": "stderr",
     "output_type": "stream",
     "text": [
      "val set: 100%|██████████| 50/50 [03:01<00:00,  3.63s/it]/it, loss=0.334]  \n",
      "Steps 0:  94%|█████████▍| 750/800 [2:34:38<53:57, 64.74s/it, loss=0.334]"
     ]
    },
    {
     "name": "stdout",
     "output_type": "stream",
     "text": [
      "Loss on validation subset (50/50 batches) at step 750: 0.5954\n"
     ]
    },
    {
     "name": "stderr",
     "output_type": "stream",
     "text": [
      "val set: 100%|██████████| 50/50 [02:55<00:00,  3.50s/it]/it, loss=0.673]\n",
      "Steps 0: 100%|██████████| 800/800 [2:46:11<00:00, 12.46s/it, loss=0.673]\n"
     ]
    },
    {
     "name": "stdout",
     "output_type": "stream",
     "text": [
      "Loss on validation subset (50/50 batches) at step 800: 0.5901\n"
     ]
    },
    {
     "name": "stderr",
     "output_type": "stream",
     "text": [
      "val set: 100%|██████████| 50/50 [02:49<00:00,  3.40s/it]s/it, loss=0.541]\n",
      "Steps 800:   6%|▋         | 50/800 [12:32<13:11:32, 63.32s/it, loss=0.541]"
     ]
    },
    {
     "name": "stdout",
     "output_type": "stream",
     "text": [
      "Loss on validation subset (50/50 batches) at step 850: 0.5847\n"
     ]
    },
    {
     "name": "stderr",
     "output_type": "stream",
     "text": [
      "val set: 100%|██████████| 50/50 [02:53<00:00,  3.46s/it]s/it, loss=0.459] \n",
      "Steps 800:  12%|█▎        | 100/800 [25:25<11:40:19, 60.03s/it, loss=0.459]"
     ]
    },
    {
     "name": "stdout",
     "output_type": "stream",
     "text": [
      "Loss on validation subset (50/50 batches) at step 900: 0.5807\n"
     ]
    },
    {
     "name": "stderr",
     "output_type": "stream",
     "text": [
      "val set: 100%|██████████| 50/50 [03:51<00:00,  4.63s/it]4s/it, loss=0.27]  \n",
      "Steps 800:  19%|█▉        | 150/800 [38:17<14:28:18, 80.15s/it, loss=0.27]"
     ]
    },
    {
     "name": "stdout",
     "output_type": "stream",
     "text": [
      "Loss on validation subset (50/50 batches) at step 950: 0.5837\n"
     ]
    },
    {
     "name": "stderr",
     "output_type": "stream",
     "text": [
      "val set: 100%|██████████| 50/50 [05:11<00:00,  6.24s/it]0s/it, loss=0.74]  \n",
      "Steps 800:  25%|██▌       | 200/800 [54:50<17:52:18, 107.23s/it, loss=0.74]"
     ]
    },
    {
     "name": "stdout",
     "output_type": "stream",
     "text": [
      "Loss on validation subset (50/50 batches) at step 1000: 0.5755\n"
     ]
    },
    {
     "name": "stderr",
     "output_type": "stream",
     "text": [
      "val set: 100%|██████████| 50/50 [04:01<00:00,  4.83s/it].88s/it, loss=0.379]\n",
      "Steps 800:  31%|███▏      | 250/800 [1:08:20<12:51:18, 84.14s/it, loss=0.379]"
     ]
    },
    {
     "name": "stdout",
     "output_type": "stream",
     "text": [
      "Loss on validation subset (50/50 batches) at step 1050: 0.5692\n"
     ]
    },
    {
     "name": "stderr",
     "output_type": "stream",
     "text": [
      "val set: 100%|██████████| 50/50 [04:09<00:00,  4.99s/it].50s/it, loss=0.771] \n",
      "Steps 800:  38%|███▊      | 300/800 [1:22:38<12:05:48, 87.10s/it, loss=0.771]"
     ]
    },
    {
     "name": "stdout",
     "output_type": "stream",
     "text": [
      "Loss on validation subset (50/50 batches) at step 1100: 0.5683\n"
     ]
    },
    {
     "name": "stderr",
     "output_type": "stream",
     "text": [
      "val set: 100%|██████████| 50/50 [04:23<00:00,  5.28s/it].73s/it, loss=0.735] \n",
      "Steps 800:  44%|████▍     | 350/800 [1:37:41<11:30:49, 92.11s/it, loss=0.735]"
     ]
    },
    {
     "name": "stdout",
     "output_type": "stream",
     "text": [
      "Loss on validation subset (50/50 batches) at step 1150: 0.5689\n"
     ]
    },
    {
     "name": "stderr",
     "output_type": "stream",
     "text": [
      "val set: 100%|██████████| 50/50 [04:14<00:00,  5.10s/it].81s/it, loss=0.409] \n",
      "Steps 800:  50%|█████     | 400/800 [1:52:38<9:54:06, 89.12s/it, loss=0.409]"
     ]
    },
    {
     "name": "stdout",
     "output_type": "stream",
     "text": [
      "Loss on validation subset (50/50 batches) at step 1200: 0.5691\n"
     ]
    },
    {
     "name": "stderr",
     "output_type": "stream",
     "text": [
      "val set: 100%|██████████| 50/50 [04:11<00:00,  5.02s/it].66s/it, loss=0.53] \n",
      "Steps 800:  56%|█████▋    | 450/800 [2:07:18<8:34:09, 88.14s/it, loss=0.53]"
     ]
    },
    {
     "name": "stdout",
     "output_type": "stream",
     "text": [
      "Loss on validation subset (50/50 batches) at step 1250: 0.5656\n"
     ]
    },
    {
     "name": "stderr",
     "output_type": "stream",
     "text": [
      "val set: 100%|██████████| 50/50 [03:35<00:00,  4.30s/it]1s/it, loss=0.204]  \n",
      "Steps 800:  62%|██████▎   | 500/800 [2:19:54<6:16:28, 75.29s/it, loss=0.204]"
     ]
    },
    {
     "name": "stdout",
     "output_type": "stream",
     "text": [
      "Loss on validation subset (50/50 batches) at step 1300: 0.5607\n"
     ]
    },
    {
     "name": "stderr",
     "output_type": "stream",
     "text": [
      "val set: 100%|██████████| 50/50 [04:47<00:00,  5.75s/it]2s/it, loss=0.55]    \n",
      "Steps 800:  69%|██████▉   | 550/800 [2:35:46<6:53:56, 99.35s/it, loss=0.55]"
     ]
    },
    {
     "name": "stdout",
     "output_type": "stream",
     "text": [
      "Loss on validation subset (50/50 batches) at step 1350: 0.5615\n"
     ]
    },
    {
     "name": "stderr",
     "output_type": "stream",
     "text": [
      "val set: 100%|██████████| 50/50 [04:02<00:00,  4.84s/it]2s/it, loss=0.621]  \n",
      "Steps 800:  75%|███████▌  | 600/800 [2:49:49<4:41:28, 84.44s/it, loss=0.621]"
     ]
    },
    {
     "name": "stdout",
     "output_type": "stream",
     "text": [
      "Loss on validation subset (50/50 batches) at step 1400: 0.5617\n"
     ]
    },
    {
     "name": "stderr",
     "output_type": "stream",
     "text": [
      "val set: 100%|██████████| 50/50 [04:36<00:00,  5.52s/it]9s/it, loss=0.517]  \n",
      "Steps 800:  81%|████████▏ | 650/800 [3:05:07<3:59:20, 95.74s/it, loss=0.517]"
     ]
    },
    {
     "name": "stdout",
     "output_type": "stream",
     "text": [
      "Loss on validation subset (50/50 batches) at step 1450: 0.5568\n"
     ]
    },
    {
     "name": "stderr",
     "output_type": "stream",
     "text": [
      "val set: 100%|██████████| 50/50 [04:01<00:00,  4.83s/it]4s/it, loss=0.568]  \n",
      "Steps 800:  88%|████████▊ | 700/800 [3:19:23<2:21:03, 84.63s/it, loss=0.568]"
     ]
    },
    {
     "name": "stdout",
     "output_type": "stream",
     "text": [
      "Loss on validation subset (50/50 batches) at step 1500: 0.5539\n"
     ]
    },
    {
     "name": "stderr",
     "output_type": "stream",
     "text": [
      "val set: 100%|██████████| 50/50 [04:01<00:00,  4.83s/it]2s/it, loss=0.596]  \n",
      "Steps 800:  94%|█████████▍| 750/800 [3:33:28<1:10:17, 84.36s/it, loss=0.596]"
     ]
    },
    {
     "name": "stdout",
     "output_type": "stream",
     "text": [
      "Loss on validation subset (50/50 batches) at step 1550: 0.5511\n"
     ]
    },
    {
     "name": "stderr",
     "output_type": "stream",
     "text": [
      "val set: 100%|██████████| 50/50 [04:06<00:00,  4.92s/it]5s/it, loss=0.251]  \n",
      "Steps 800: 100%|██████████| 800/800 [3:47:45<00:00, 17.08s/it, loss=0.251]\n"
     ]
    },
    {
     "name": "stdout",
     "output_type": "stream",
     "text": [
      "Loss on validation subset (50/50 batches) at step 1600: 0.5523\n"
     ]
    },
    {
     "name": "stderr",
     "output_type": "stream",
     "text": [
      "val set: 100%|██████████| 50/50 [03:26<00:00,  4.13s/it]2s/it, loss=0.417] \n",
      "Steps 1600:   6%|▋         | 50/800 [12:03<15:03:09, 72.25s/it, loss=0.417]"
     ]
    },
    {
     "name": "stdout",
     "output_type": "stream",
     "text": [
      "Loss on validation subset (50/50 batches) at step 1650: 0.5555\n"
     ]
    },
    {
     "name": "stderr",
     "output_type": "stream",
     "text": [
      "val set: 100%|██████████| 50/50 [03:30<00:00,  4.20s/it]1s/it, loss=0.7]   \n",
      "Steps 1600:  12%|█▎        | 100/800 [24:31<14:21:53, 73.88s/it, loss=0.7]"
     ]
    },
    {
     "name": "stdout",
     "output_type": "stream",
     "text": [
      "Loss on validation subset (50/50 batches) at step 1700: 0.5475\n"
     ]
    },
    {
     "name": "stderr",
     "output_type": "stream",
     "text": [
      "val set: 100%|██████████| 50/50 [04:04<00:00,  4.88s/it]84s/it, loss=0.519] \n",
      "Steps 1600:  19%|█▉        | 150/800 [38:30<15:19:14, 84.85s/it, loss=0.519]"
     ]
    },
    {
     "name": "stdout",
     "output_type": "stream",
     "text": [
      "Loss on validation subset (50/50 batches) at step 1750: 0.5479\n"
     ]
    },
    {
     "name": "stderr",
     "output_type": "stream",
     "text": [
      "val set: 100%|██████████| 50/50 [04:02<00:00,  4.84s/it]11s/it, loss=0.46]  \n",
      "Steps 1600:  25%|██▌       | 200/800 [52:24<14:04:36, 84.46s/it, loss=0.46]"
     ]
    },
    {
     "name": "stdout",
     "output_type": "stream",
     "text": [
      "Loss on validation subset (50/50 batches) at step 1800: 0.5479\n"
     ]
    },
    {
     "name": "stderr",
     "output_type": "stream",
     "text": [
      "val set: 100%|██████████| 50/50 [04:04<00:00,  4.90s/it]2.39s/it, loss=0.584]\n",
      "Steps 1600:  31%|███▏      | 250/800 [1:06:39<13:03:36, 85.48s/it, loss=0.584]"
     ]
    },
    {
     "name": "stdout",
     "output_type": "stream",
     "text": [
      "Loss on validation subset (50/50 batches) at step 1850: 0.5441\n"
     ]
    },
    {
     "name": "stderr",
     "output_type": "stream",
     "text": [
      "val set: 100%|██████████| 50/50 [04:46<00:00,  5.73s/it]3.25s/it, loss=0.554] \n",
      "Steps 1600:  38%|███▊      | 300/800 [1:22:18<13:45:27, 99.05s/it, loss=0.554]"
     ]
    },
    {
     "name": "stdout",
     "output_type": "stream",
     "text": [
      "Loss on validation subset (50/50 batches) at step 1900: 0.5450\n"
     ]
    },
    {
     "name": "stderr",
     "output_type": "stream",
     "text": [
      "val set: 100%|██████████| 50/50 [03:40<00:00,  4.40s/it]0.99s/it, loss=0.488] \n",
      "Steps 1600:  44%|████▍     | 350/800 [1:35:10<9:35:26, 76.72s/it, loss=0.488]"
     ]
    },
    {
     "name": "stdout",
     "output_type": "stream",
     "text": [
      "Loss on validation subset (50/50 batches) at step 1950: 0.5442\n"
     ]
    },
    {
     "name": "stderr",
     "output_type": "stream",
     "text": [
      "val set: 100%|██████████| 50/50 [04:03<00:00,  4.87s/it]2.44s/it, loss=0.28] \n",
      "Steps 1600:  50%|█████     | 400/800 [1:49:37<9:32:38, 85.90s/it, loss=0.28]"
     ]
    },
    {
     "name": "stdout",
     "output_type": "stream",
     "text": [
      "Loss on validation subset (50/50 batches) at step 2000: 0.5436\n"
     ]
    },
    {
     "name": "stderr",
     "output_type": "stream",
     "text": [
      "val set: 100%|██████████| 50/50 [04:07<00:00,  4.95s/it]2.58s/it, loss=0.261]\n",
      "Steps 1600:  56%|█████▋    | 450/800 [2:04:10<8:25:38, 86.68s/it, loss=0.261]"
     ]
    },
    {
     "name": "stdout",
     "output_type": "stream",
     "text": [
      "Loss on validation subset (50/50 batches) at step 2050: 0.5399\n"
     ]
    },
    {
     "name": "stderr",
     "output_type": "stream",
     "text": [
      "val set: 100%|██████████| 50/50 [03:53<00:00,  4.67s/it]75s/it, loss=0.313]  \n",
      "Steps 1600:  62%|██████▎   | 500/800 [2:17:38<6:47:35, 81.52s/it, loss=0.313]"
     ]
    },
    {
     "name": "stdout",
     "output_type": "stream",
     "text": [
      "Loss on validation subset (50/50 batches) at step 2100: 0.5391\n"
     ]
    },
    {
     "name": "stderr",
     "output_type": "stream",
     "text": [
      "val set: 100%|██████████| 50/50 [04:05<00:00,  4.92s/it]91s/it, loss=0.556]  \n",
      "Steps 1600:  69%|██████▉   | 550/800 [2:31:38<5:55:45, 85.38s/it, loss=0.556]"
     ]
    },
    {
     "name": "stdout",
     "output_type": "stream",
     "text": [
      "Loss on validation subset (50/50 batches) at step 2150: 0.5386\n"
     ]
    },
    {
     "name": "stderr",
     "output_type": "stream",
     "text": [
      "val set: 100%|██████████| 50/50 [04:22<00:00,  5.24s/it]49s/it, loss=0.219]  \n",
      "Steps 1600:  75%|███████▌  | 600/800 [2:46:19<5:05:25, 91.63s/it, loss=0.219]"
     ]
    },
    {
     "name": "stdout",
     "output_type": "stream",
     "text": [
      "Loss on validation subset (50/50 batches) at step 2200: 0.5394\n"
     ]
    },
    {
     "name": "stderr",
     "output_type": "stream",
     "text": [
      "val set: 100%|██████████| 50/50 [04:06<00:00,  4.92s/it]25s/it, loss=0.413]  \n",
      "Steps 1600:  81%|████████▏ | 650/800 [3:00:30<3:34:19, 85.73s/it, loss=0.413]"
     ]
    },
    {
     "name": "stdout",
     "output_type": "stream",
     "text": [
      "Loss on validation subset (50/50 batches) at step 2250: 0.5353\n"
     ]
    },
    {
     "name": "stderr",
     "output_type": "stream",
     "text": [
      "val set: 100%|██████████| 50/50 [03:41<00:00,  4.43s/it]15s/it, loss=0.462]  \n",
      "Steps 1600:  88%|████████▊ | 700/800 [3:13:26<2:08:50, 77.30s/it, loss=0.462]"
     ]
    },
    {
     "name": "stdout",
     "output_type": "stream",
     "text": [
      "Loss on validation subset (50/50 batches) at step 2300: 0.5384\n"
     ]
    },
    {
     "name": "stderr",
     "output_type": "stream",
     "text": [
      "val set: 100%|██████████| 50/50 [04:07<00:00,  4.95s/it]73s/it, loss=0.537]  \n",
      "Steps 1600:  94%|█████████▍| 750/800 [3:28:12<1:12:17, 86.76s/it, loss=0.537]"
     ]
    },
    {
     "name": "stdout",
     "output_type": "stream",
     "text": [
      "Loss on validation subset (50/50 batches) at step 2350: 0.5326\n"
     ]
    },
    {
     "name": "stderr",
     "output_type": "stream",
     "text": [
      "val set: 100%|██████████| 50/50 [04:06<00:00,  4.93s/it]81s/it, loss=0.584]  \n",
      "Steps 1600: 100%|██████████| 800/800 [3:42:52<00:00, 16.72s/it, loss=0.584]\n"
     ]
    },
    {
     "name": "stdout",
     "output_type": "stream",
     "text": [
      "Loss on validation subset (50/50 batches) at step 2400: 0.5363\n"
     ]
    },
    {
     "name": "stderr",
     "output_type": "stream",
     "text": [
      "val set: 100%|██████████| 50/50 [04:07<00:00,  4.95s/it]4s/it, loss=0.524]\n",
      "Steps 2400:   6%|▋         | 50/800 [14:17<17:59:05, 86.33s/it, loss=0.524]"
     ]
    },
    {
     "name": "stdout",
     "output_type": "stream",
     "text": [
      "Loss on validation subset (50/50 batches) at step 2450: 0.5353\n"
     ]
    },
    {
     "name": "stderr",
     "output_type": "stream",
     "text": [
      "val set: 100%|██████████| 50/50 [04:06<00:00,  4.93s/it]6s/it, loss=0.652] \n",
      "Steps 2400:  12%|█▎        | 100/800 [28:49<16:45:41, 86.20s/it, loss=0.652]"
     ]
    },
    {
     "name": "stdout",
     "output_type": "stream",
     "text": [
      "Loss on validation subset (50/50 batches) at step 2500: 0.5313\n"
     ]
    },
    {
     "name": "stderr",
     "output_type": "stream",
     "text": [
      "val set: 100%|██████████| 50/50 [04:08<00:00,  4.97s/it]88s/it, loss=0.397] \n",
      "Steps 2400:  19%|█▉        | 150/800 [42:55<15:40:04, 86.78s/it, loss=0.397]"
     ]
    },
    {
     "name": "stdout",
     "output_type": "stream",
     "text": [
      "Loss on validation subset (50/50 batches) at step 2550: 0.5304\n"
     ]
    },
    {
     "name": "stderr",
     "output_type": "stream",
     "text": [
      "val set: 100%|██████████| 50/50 [03:56<00:00,  4.73s/it]78s/it, loss=0.531] \n",
      "Steps 2400:  25%|██▌       | 200/800 [56:55<13:51:47, 83.18s/it, loss=0.531]"
     ]
    },
    {
     "name": "stdout",
     "output_type": "stream",
     "text": [
      "Loss on validation subset (50/50 batches) at step 2600: 0.5306\n"
     ]
    },
    {
     "name": "stderr",
     "output_type": "stream",
     "text": [
      "val set: 100%|██████████| 50/50 [04:49<00:00,  5.78s/it]2.67s/it, loss=0.361]\n",
      "Steps 2400:  31%|███▏      | 250/800 [1:12:36<15:16:27, 99.98s/it, loss=0.361]"
     ]
    },
    {
     "name": "stdout",
     "output_type": "stream",
     "text": [
      "Loss on validation subset (50/50 batches) at step 2650: 0.5340\n"
     ]
    },
    {
     "name": "stderr",
     "output_type": "stream",
     "text": [
      "val set: 100%|██████████| 50/50 [04:49<00:00,  5.79s/it]3.16s/it, loss=0.361] \n",
      "Steps 2400:  38%|███▊      | 300/800 [1:28:17<13:55:27, 100.25s/it, loss=0.361]"
     ]
    },
    {
     "name": "stdout",
     "output_type": "stream",
     "text": [
      "Loss on validation subset (50/50 batches) at step 2700: 0.5310\n"
     ]
    },
    {
     "name": "stderr",
     "output_type": "stream",
     "text": [
      "val set: 100%|██████████| 50/50 [04:20<00:00,  5.21s/it]2.32s/it, loss=0.505]  \n",
      "Steps 2400:  44%|████▍     | 350/800 [1:43:32<11:18:12, 90.43s/it, loss=0.505]"
     ]
    },
    {
     "name": "stdout",
     "output_type": "stream",
     "text": [
      "Loss on validation subset (50/50 batches) at step 2750: 0.5262\n"
     ]
    },
    {
     "name": "stderr",
     "output_type": "stream",
     "text": [
      "val set: 100%|██████████| 50/50 [03:22<00:00,  4.05s/it]3.54s/it, loss=0.483] \n",
      "Steps 2400:  50%|█████     | 400/800 [1:58:24<8:13:12, 73.98s/it, loss=0.483]"
     ]
    },
    {
     "name": "stdout",
     "output_type": "stream",
     "text": [
      "Loss on validation subset (50/50 batches) at step 2800: 0.5305\n"
     ]
    },
    {
     "name": "stderr",
     "output_type": "stream",
     "text": [
      "val set: 100%|██████████| 50/50 [01:25<00:00,  1.70s/it]38s/it, loss=0.215]  \n",
      "Steps 2400:  56%|█████▋    | 450/800 [2:04:31<3:00:29, 30.94s/it, loss=0.215]"
     ]
    },
    {
     "name": "stdout",
     "output_type": "stream",
     "text": [
      "Loss on validation subset (50/50 batches) at step 2850: 0.5293\n"
     ]
    },
    {
     "name": "stderr",
     "output_type": "stream",
     "text": [
      "val set: 100%|██████████| 50/50 [01:38<00:00,  1.96s/it]40s/it, loss=0.421]  \n",
      "Steps 2400:  62%|██████▎   | 500/800 [2:10:37<2:54:00, 34.80s/it, loss=0.421]"
     ]
    },
    {
     "name": "stdout",
     "output_type": "stream",
     "text": [
      "Loss on validation subset (50/50 batches) at step 2900: 0.5263\n"
     ]
    },
    {
     "name": "stderr",
     "output_type": "stream",
     "text": [
      "val set: 100%|██████████| 50/50 [01:32<00:00,  1.84s/it]59s/it, loss=0.366]  \n",
      "Steps 2400:  69%|██████▉   | 550/800 [2:16:50<2:18:04, 33.14s/it, loss=0.366]"
     ]
    },
    {
     "name": "stdout",
     "output_type": "stream",
     "text": [
      "Loss on validation subset (50/50 batches) at step 2950: 0.5276\n"
     ]
    },
    {
     "name": "stderr",
     "output_type": "stream",
     "text": [
      "val set: 100%|██████████| 50/50 [01:37<00:00,  1.95s/it]14s/it, loss=0.387]  \n",
      "Steps 2400:  75%|███████▌  | 600/800 [2:23:13<2:00:15, 36.08s/it, loss=0.387]"
     ]
    },
    {
     "name": "stdout",
     "output_type": "stream",
     "text": [
      "Loss on validation subset (50/50 batches) at step 3000: 0.5256\n"
     ]
    },
    {
     "name": "stderr",
     "output_type": "stream",
     "text": [
      "val set: 100%|██████████| 50/50 [01:32<00:00,  1.86s/it]57s/it, loss=0.34]   \n",
      "Steps 2400:  81%|████████▏ | 650/800 [2:29:28<1:23:34, 33.43s/it, loss=0.34]"
     ]
    },
    {
     "name": "stdout",
     "output_type": "stream",
     "text": [
      "Loss on validation subset (50/50 batches) at step 3050: 0.5251\n"
     ]
    },
    {
     "name": "stderr",
     "output_type": "stream",
     "text": [
      "val set: 100%|██████████| 50/50 [01:27<00:00,  1.75s/it]50s/it, loss=0.31]   \n",
      "Steps 2400:  88%|████████▊ | 700/800 [2:35:44<52:52, 31.72s/it, loss=0.31]"
     ]
    },
    {
     "name": "stdout",
     "output_type": "stream",
     "text": [
      "Loss on validation subset (50/50 batches) at step 3100: 0.5222\n"
     ]
    },
    {
     "name": "stderr",
     "output_type": "stream",
     "text": [
      "val set: 100%|██████████| 50/50 [01:28<00:00,  1.77s/it]30s/it, loss=0.404]\n",
      "Steps 2400:  94%|█████████▍| 750/800 [2:41:51<26:32, 31.86s/it, loss=0.404]"
     ]
    },
    {
     "name": "stdout",
     "output_type": "stream",
     "text": [
      "Loss on validation subset (50/50 batches) at step 3150: 0.5219\n"
     ]
    },
    {
     "name": "stderr",
     "output_type": "stream",
     "text": [
      "val set: 100%|██████████| 50/50 [01:28<00:00,  1.77s/it]29s/it, loss=0.348]\n",
      "Steps 2400: 100%|██████████| 800/800 [2:47:44<00:00, 12.58s/it, loss=0.348]\n"
     ]
    },
    {
     "name": "stdout",
     "output_type": "stream",
     "text": [
      "Loss on validation subset (50/50 batches) at step 3200: 0.5217\n"
     ]
    },
    {
     "name": "stderr",
     "output_type": "stream",
     "text": [
      "val set: 100%|██████████| 50/50 [01:29<00:00,  1.78s/it]0s/it, loss=0.488]\n",
      "Steps 3200:   6%|▋         | 50/800 [05:54<6:41:20, 32.11s/it, loss=0.488]"
     ]
    },
    {
     "name": "stdout",
     "output_type": "stream",
     "text": [
      "Loss on validation subset (50/50 batches) at step 3250: 0.5217\n"
     ]
    },
    {
     "name": "stderr",
     "output_type": "stream",
     "text": [
      "val set: 100%|██████████| 50/50 [01:28<00:00,  1.77s/it]4s/it, loss=0.39] \n",
      "Steps 3200:  12%|█▎        | 100/800 [11:49<6:12:02, 31.89s/it, loss=0.39]"
     ]
    },
    {
     "name": "stdout",
     "output_type": "stream",
     "text": [
      "Loss on validation subset (50/50 batches) at step 3300: 0.5224\n"
     ]
    },
    {
     "name": "stderr",
     "output_type": "stream",
     "text": [
      "val set: 100%|██████████| 50/50 [01:28<00:00,  1.76s/it]s/it, loss=0.256]  \n",
      "Steps 3200:  19%|█▉        | 150/800 [17:40<5:43:25, 31.70s/it, loss=0.256]"
     ]
    },
    {
     "name": "stdout",
     "output_type": "stream",
     "text": [
      "Loss on validation subset (50/50 batches) at step 3350: 0.5208\n"
     ]
    },
    {
     "name": "stderr",
     "output_type": "stream",
     "text": [
      "val set: 100%|██████████| 50/50 [01:28<00:00,  1.76s/it]s/it, loss=0.449]  \n",
      "Steps 3200:  25%|██▌       | 200/800 [23:34<5:17:16, 31.73s/it, loss=0.449]"
     ]
    },
    {
     "name": "stdout",
     "output_type": "stream",
     "text": [
      "Loss on validation subset (50/50 batches) at step 3400: 0.5202\n"
     ]
    },
    {
     "name": "stderr",
     "output_type": "stream",
     "text": [
      "val set: 100%|██████████| 50/50 [01:29<00:00,  1.78s/it]s/it, loss=0.225]  \n",
      "Steps 3200:  31%|███▏      | 250/800 [29:28<4:54:03, 32.08s/it, loss=0.225]"
     ]
    },
    {
     "name": "stdout",
     "output_type": "stream",
     "text": [
      "Loss on validation subset (50/50 batches) at step 3450: 0.5198\n"
     ]
    },
    {
     "name": "stderr",
     "output_type": "stream",
     "text": [
      "val set: 100%|██████████| 50/50 [01:34<00:00,  1.88s/it]s/it, loss=0.337]  \n",
      "Steps 3200:  38%|███▊      | 300/800 [35:41<4:42:57, 33.95s/it, loss=0.337]"
     ]
    },
    {
     "name": "stdout",
     "output_type": "stream",
     "text": [
      "Loss on validation subset (50/50 batches) at step 3500: 0.5189\n"
     ]
    },
    {
     "name": "stderr",
     "output_type": "stream",
     "text": [
      "val set: 100%|██████████| 50/50 [01:34<00:00,  1.88s/it]s/it, loss=0.37]   \n",
      "Steps 3200:  44%|████▍     | 350/800 [41:57<4:15:20, 34.05s/it, loss=0.37]"
     ]
    },
    {
     "name": "stdout",
     "output_type": "stream",
     "text": [
      "Loss on validation subset (50/50 batches) at step 3550: 0.5182\n"
     ]
    },
    {
     "name": "stderr",
     "output_type": "stream",
     "text": [
      "val set: 100%|██████████| 50/50 [01:31<00:00,  1.82s/it]s/it, loss=0.499]   \n",
      "Steps 3200:  50%|█████     | 400/800 [47:58<3:38:34, 32.79s/it, loss=0.499]"
     ]
    },
    {
     "name": "stdout",
     "output_type": "stream",
     "text": [
      "Loss on validation subset (50/50 batches) at step 3600: 0.5184\n"
     ]
    },
    {
     "name": "stderr",
     "output_type": "stream",
     "text": [
      "val set: 100%|██████████| 50/50 [01:31<00:00,  1.82s/it]s/it, loss=0.531]  \n",
      "Steps 3200:  56%|█████▋    | 450/800 [53:55<3:09:36, 32.50s/it, loss=0.531]"
     ]
    },
    {
     "name": "stdout",
     "output_type": "stream",
     "text": [
      "Loss on validation subset (50/50 batches) at step 3650: 0.5183\n"
     ]
    },
    {
     "name": "stderr",
     "output_type": "stream",
     "text": [
      "val set: 100%|██████████| 50/50 [01:31<00:00,  1.83s/it]s/it, loss=0.452]  \n",
      "Steps 3200:  62%|██████▎   | 500/800 [59:55<2:43:09, 32.63s/it, loss=0.452]"
     ]
    },
    {
     "name": "stdout",
     "output_type": "stream",
     "text": [
      "Loss on validation subset (50/50 batches) at step 3700: 0.5181\n"
     ]
    },
    {
     "name": "stderr",
     "output_type": "stream",
     "text": [
      "val set: 100%|██████████| 50/50 [01:36<00:00,  1.93s/it]32s/it, loss=0.408]  \n",
      "Steps 3200:  69%|██████▉   | 550/800 [1:05:51<2:22:32, 34.21s/it, loss=0.408]"
     ]
    },
    {
     "name": "stdout",
     "output_type": "stream",
     "text": [
      "Loss on validation subset (50/50 batches) at step 3750: 0.5174\n"
     ]
    },
    {
     "name": "stderr",
     "output_type": "stream",
     "text": [
      "val set: 100%|██████████| 50/50 [01:36<00:00,  1.93s/it]29s/it, loss=0.118]  \n",
      "Steps 3200:  75%|███████▌  | 600/800 [1:11:53<1:54:23, 34.32s/it, loss=0.118]"
     ]
    },
    {
     "name": "stdout",
     "output_type": "stream",
     "text": [
      "Loss on validation subset (50/50 batches) at step 3800: 0.5170\n"
     ]
    },
    {
     "name": "stderr",
     "output_type": "stream",
     "text": [
      "val set: 100%|██████████| 50/50 [01:33<00:00,  1.86s/it]47s/it, loss=0.646]  \n",
      "Steps 3200:  81%|████████▏ | 650/800 [1:18:01<1:23:44, 33.50s/it, loss=0.646]"
     ]
    },
    {
     "name": "stdout",
     "output_type": "stream",
     "text": [
      "Loss on validation subset (50/50 batches) at step 3850: 0.5156\n"
     ]
    },
    {
     "name": "stderr",
     "output_type": "stream",
     "text": [
      "val set: 100%|██████████| 50/50 [01:34<00:00,  1.88s/it]61s/it, loss=0.277]  \n",
      "Steps 3200:  88%|████████▊ | 700/800 [1:24:10<56:09, 33.69s/it, loss=0.277]"
     ]
    },
    {
     "name": "stdout",
     "output_type": "stream",
     "text": [
      "Loss on validation subset (50/50 batches) at step 3900: 0.5162\n"
     ]
    },
    {
     "name": "stderr",
     "output_type": "stream",
     "text": [
      "val set: 100%|██████████| 50/50 [01:39<00:00,  1.98s/it]56s/it, loss=0.651]\n",
      "Steps 3200:  94%|█████████▍| 750/800 [1:30:15<29:32, 35.45s/it, loss=0.651]"
     ]
    },
    {
     "name": "stdout",
     "output_type": "stream",
     "text": [
      "Loss on validation subset (50/50 batches) at step 3950: 0.5160\n"
     ]
    },
    {
     "name": "stderr",
     "output_type": "stream",
     "text": [
      "val set: 100%|██████████| 50/50 [01:24<00:00,  1.69s/it]14s/it, loss=0.323]\n",
      "Steps 3200: 100%|██████████| 800/800 [1:35:58<00:00,  7.20s/it, loss=0.323]\n"
     ]
    },
    {
     "name": "stdout",
     "output_type": "stream",
     "text": [
      "Loss on validation subset (50/50 batches) at step 4000: 0.5159\n"
     ]
    },
    {
     "name": "stderr",
     "output_type": "stream",
     "text": [
      "val set: 100%|██████████| 50/50 [01:26<00:00,  1.72s/it]4s/it, loss=0.292]\n",
      "Steps 4000:   6%|▋         | 50/800 [05:51<6:31:25, 31.31s/it, loss=0.292]"
     ]
    },
    {
     "name": "stdout",
     "output_type": "stream",
     "text": [
      "Loss on validation subset (50/50 batches) at step 4050: 0.5156\n"
     ]
    },
    {
     "name": "stderr",
     "output_type": "stream",
     "text": [
      "val set: 100%|██████████| 50/50 [01:24<00:00,  1.69s/it]/it, loss=0.396]  \n",
      "Steps 4000:  12%|█▎        | 100/800 [11:28<5:54:42, 30.40s/it, loss=0.396]"
     ]
    },
    {
     "name": "stdout",
     "output_type": "stream",
     "text": [
      "Loss on validation subset (50/50 batches) at step 4100: 0.5154\n"
     ]
    },
    {
     "name": "stderr",
     "output_type": "stream",
     "text": [
      "val set: 100%|██████████| 50/50 [01:23<00:00,  1.67s/it]s/it, loss=0.303]  \n",
      "Steps 4000:  19%|█▉        | 150/800 [17:00<5:24:51, 29.99s/it, loss=0.303]"
     ]
    },
    {
     "name": "stdout",
     "output_type": "stream",
     "text": [
      "Loss on validation subset (50/50 batches) at step 4150: 0.5148\n"
     ]
    },
    {
     "name": "stderr",
     "output_type": "stream",
     "text": [
      "val set: 100%|██████████| 50/50 [01:24<00:00,  1.68s/it]s/it, loss=0.468]  \n",
      "Steps 4000:  25%|██▌       | 200/800 [22:35<5:03:26, 30.34s/it, loss=0.468]"
     ]
    },
    {
     "name": "stdout",
     "output_type": "stream",
     "text": [
      "Loss on validation subset (50/50 batches) at step 4200: 0.5149\n"
     ]
    },
    {
     "name": "stderr",
     "output_type": "stream",
     "text": [
      "val set: 100%|██████████| 50/50 [01:23<00:00,  1.67s/it]s/it, loss=0.346]  \n",
      "Steps 4000:  31%|███▏      | 250/800 [28:09<4:34:40, 29.97s/it, loss=0.346]"
     ]
    },
    {
     "name": "stdout",
     "output_type": "stream",
     "text": [
      "Loss on validation subset (50/50 batches) at step 4250: 0.5147\n"
     ]
    },
    {
     "name": "stderr",
     "output_type": "stream",
     "text": [
      "val set: 100%|██████████| 50/50 [01:24<00:00,  1.69s/it]s/it, loss=0.546]  \n",
      "Steps 4000:  38%|███▊      | 300/800 [33:44<4:13:19, 30.40s/it, loss=0.546]"
     ]
    },
    {
     "name": "stdout",
     "output_type": "stream",
     "text": [
      "Loss on validation subset (50/50 batches) at step 4300: 0.5143\n"
     ]
    },
    {
     "name": "stderr",
     "output_type": "stream",
     "text": [
      "val set: 100%|██████████| 50/50 [01:24<00:00,  1.68s/it]s/it, loss=0.537]  \n",
      "Steps 4000:  44%|████▍     | 350/800 [39:19<3:46:23, 30.19s/it, loss=0.537]"
     ]
    },
    {
     "name": "stdout",
     "output_type": "stream",
     "text": [
      "Loss on validation subset (50/50 batches) at step 4350: 0.5144\n"
     ]
    },
    {
     "name": "stderr",
     "output_type": "stream",
     "text": [
      "val set: 100%|██████████| 50/50 [01:24<00:00,  1.69s/it]s/it, loss=0.342]  \n",
      "Steps 4000:  50%|█████     | 400/800 [44:54<3:22:44, 30.41s/it, loss=0.342]"
     ]
    },
    {
     "name": "stdout",
     "output_type": "stream",
     "text": [
      "Loss on validation subset (50/50 batches) at step 4400: 0.5145\n"
     ]
    },
    {
     "name": "stderr",
     "output_type": "stream",
     "text": [
      "val set: 100%|██████████| 50/50 [01:23<00:00,  1.66s/it]s/it, loss=0.24]   \n",
      "Steps 4000:  56%|█████▋    | 450/800 [50:27<2:54:25, 29.90s/it, loss=0.24]"
     ]
    },
    {
     "name": "stdout",
     "output_type": "stream",
     "text": [
      "Loss on validation subset (50/50 batches) at step 4450: 0.5142\n"
     ]
    },
    {
     "name": "stderr",
     "output_type": "stream",
     "text": [
      "val set: 100%|██████████| 50/50 [01:23<00:00,  1.68s/it]s/it, loss=0.59]   \n",
      "Steps 4000:  62%|██████▎   | 500/800 [56:02<2:30:47, 30.16s/it, loss=0.59]"
     ]
    },
    {
     "name": "stdout",
     "output_type": "stream",
     "text": [
      "Loss on validation subset (50/50 batches) at step 4500: 0.5141\n"
     ]
    },
    {
     "name": "stderr",
     "output_type": "stream",
     "text": [
      "val set: 100%|██████████| 50/50 [01:22<00:00,  1.66s/it]97s/it, loss=0.398]\n",
      "Steps 4000:  69%|██████▉   | 550/800 [1:01:34<2:04:22, 29.85s/it, loss=0.398]"
     ]
    },
    {
     "name": "stdout",
     "output_type": "stream",
     "text": [
      "Loss on validation subset (50/50 batches) at step 4550: 0.5142\n"
     ]
    },
    {
     "name": "stderr",
     "output_type": "stream",
     "text": [
      "val set: 100%|██████████| 50/50 [01:23<00:00,  1.67s/it]02s/it, loss=0.481]  \n",
      "Steps 4000:  75%|███████▌  | 600/800 [1:07:09<1:40:20, 30.10s/it, loss=0.481]"
     ]
    },
    {
     "name": "stdout",
     "output_type": "stream",
     "text": [
      "Loss on validation subset (50/50 batches) at step 4600: 0.5137\n"
     ]
    },
    {
     "name": "stderr",
     "output_type": "stream",
     "text": [
      "val set: 100%|██████████| 50/50 [01:23<00:00,  1.67s/it]00s/it, loss=0.221]  \n",
      "Steps 4000:  81%|████████▏ | 650/800 [1:12:44<1:15:21, 30.14s/it, loss=0.221]"
     ]
    },
    {
     "name": "stdout",
     "output_type": "stream",
     "text": [
      "Loss on validation subset (50/50 batches) at step 4650: 0.5137\n"
     ]
    },
    {
     "name": "stderr",
     "output_type": "stream",
     "text": [
      "val set: 100%|██████████| 50/50 [01:23<00:00,  1.67s/it]01s/it, loss=0.402]  \n",
      "Steps 4000:  88%|████████▊ | 700/800 [1:18:18<50:04, 30.04s/it, loss=0.402]"
     ]
    },
    {
     "name": "stdout",
     "output_type": "stream",
     "text": [
      "Loss on validation subset (50/50 batches) at step 4700: 0.5136\n"
     ]
    },
    {
     "name": "stderr",
     "output_type": "stream",
     "text": [
      "val set: 100%|██████████| 50/50 [01:23<00:00,  1.67s/it]00s/it, loss=0.318]\n",
      "Steps 4000:  94%|█████████▍| 750/800 [1:23:52<25:03, 30.08s/it, loss=0.318]"
     ]
    },
    {
     "name": "stdout",
     "output_type": "stream",
     "text": [
      "Loss on validation subset (50/50 batches) at step 4750: 0.5136\n"
     ]
    },
    {
     "name": "stderr",
     "output_type": "stream",
     "text": [
      "val set: 100%|██████████| 50/50 [01:23<00:00,  1.67s/it]02s/it, loss=0.422]\n",
      "Steps 4000: 100%|██████████| 800/800 [1:29:26<00:00,  6.71s/it, loss=0.422]\n"
     ]
    },
    {
     "name": "stdout",
     "output_type": "stream",
     "text": [
      "Loss on validation subset (50/50 batches) at step 4800: 0.5135\n"
     ]
    },
    {
     "name": "stderr",
     "output_type": "stream",
     "text": [
      "val set: 100%|██████████| 50/50 [01:23<00:00,  1.68s/it]0s/it, loss=0.501] \n",
      "Steps 4800:   6%|▋         | 50/800 [05:34<6:17:15, 30.18s/it, loss=0.501]"
     ]
    },
    {
     "name": "stdout",
     "output_type": "stream",
     "text": [
      "Loss on validation subset (50/50 batches) at step 4850: 0.5135\n"
     ]
    },
    {
     "name": "stderr",
     "output_type": "stream",
     "text": [
      "val set: 100%|██████████| 50/50 [01:23<00:00,  1.66s/it]/it, loss=0.413]  \n",
      "Steps 4800:  12%|█▎        | 100/800 [11:07<5:48:39, 29.88s/it, loss=0.413]"
     ]
    },
    {
     "name": "stdout",
     "output_type": "stream",
     "text": [
      "Loss on validation subset (50/50 batches) at step 4900: 0.5136\n"
     ]
    },
    {
     "name": "stderr",
     "output_type": "stream",
     "text": [
      "val set: 100%|██████████| 50/50 [01:23<00:00,  1.67s/it]s/it, loss=0.287]  \n",
      "Steps 4800:  19%|█▉        | 150/800 [16:41<5:25:48, 30.07s/it, loss=0.287]"
     ]
    },
    {
     "name": "stdout",
     "output_type": "stream",
     "text": [
      "Loss on validation subset (50/50 batches) at step 4950: 0.5136\n"
     ]
    },
    {
     "name": "stderr",
     "output_type": "stream",
     "text": [
      "val set: 100%|██████████| 50/50 [01:23<00:00,  1.67s/it]s/it, loss=0.425]  \n",
      "Steps 4800:  25%|██▌       | 200/800 [22:15<5:00:37, 30.06s/it, loss=0.425]"
     ]
    },
    {
     "name": "stdout",
     "output_type": "stream",
     "text": [
      "Loss on validation subset (50/50 batches) at step 5000: 0.5136\n"
     ]
    },
    {
     "name": "stderr",
     "output_type": "stream",
     "text": [
      "Steps 4800:  25%|██▌       | 200/800 [22:21<1:07:03,  6.71s/it, loss=0.468]\n"
     ]
    }
   ],
   "source": [
    "# Train the model\n",
    "steps = 0\n",
    "train_losses = []\n",
    "val_losses = []\n",
    "while steps < max_steps:\n",
    "    progress_bar = tqdm(train_loader, desc=f\"Steps {steps}\")\n",
    "    for (batch,) in progress_bar:\n",
    "        model.train()\n",
    "        optimizer.zero_grad()\n",
    "        outputs = model(batch, labels=batch)\n",
    "        loss = outputs.loss\n",
    "        train_losses.append([loss.item(), steps])\n",
    "        accelerator.backward(loss)\n",
    "        optimizer.step()\n",
    "        scheduler.step()\n",
    "        steps += 1\n",
    "\n",
    "        progress_bar.set_postfix(loss=loss.item())\n",
    "\n",
    "        wandb.log({\n",
    "            \"train_loss\": loss.item(),\n",
    "            \"steps\": steps,\n",
    "            \"lr\": optimizer.param_groups[0]['lr'],\n",
    "            })\n",
    "\n",
    "        if (steps % 50) == 0:\n",
    "            avg_loss = evaluate_model(model, val_loader, steps)\n",
    "            val_losses.append([avg_loss, steps])\n",
    "            model.eval()\n",
    "\n",
    "            wandb.log({\n",
    "            \"val_loss\": avg_loss,\n",
    "            \"steps\": steps,\n",
    "            })\n",
    "\n",
    "        if steps > max_steps:\n",
    "            break    "
   ]
  },
  {
   "cell_type": "code",
   "execution_count": 11,
   "metadata": {},
   "outputs": [
    {
     "name": "stdout",
     "output_type": "stream",
     "text": [
      "[2025-03-30 00:55:16,742] [INFO] [real_accelerator.py:222:get_accelerator] Setting ds_accelerator to cuda (auto detect)\n"
     ]
    }
   ],
   "source": [
    "# Unwrap model from accelerator\n",
    "unwrapped_model = accelerator.unwrap_model(model)\n",
    "\n",
    "# Create a dictionary to store LoRA weights\n",
    "lora_state_dict = {}\n",
    "\n",
    "# Extract LoRA weights from each layer\n",
    "for i, layer in enumerate(unwrapped_model.model.layers):\n",
    "    # Save Q projection LoRA weights\n",
    "    if hasattr(layer.self_attn.q_proj, 'A'):\n",
    "        lora_state_dict[f'layer_{i}.self_attn.q_proj.A'] = layer.self_attn.q_proj.A.detach().cpu()\n",
    "        lora_state_dict[f'layer_{i}.self_attn.q_proj.B'] = layer.self_attn.q_proj.B.detach().cpu()\n",
    "    \n",
    "    # Save V projection LoRA weights\n",
    "    if hasattr(layer.self_attn.v_proj, 'A'):\n",
    "        lora_state_dict[f'layer_{i}.self_attn.v_proj.A'] = layer.self_attn.v_proj.A.detach().cpu()\n",
    "        lora_state_dict[f'layer_{i}.self_attn.v_proj.B'] = layer.self_attn.v_proj.B.detach().cpu()\n",
    "\n",
    "# Save metadata\n",
    "lora_state_dict['config'] = {\n",
    "    'lora_rank': lora_rank,\n",
    "    'lora_alpha': lora_alpha,\n",
    "    'max_ctx_length': max_ctx_length\n",
    "}\n",
    "\n",
    "# Save to file\n",
    "torch.save(lora_state_dict, f\"../models/{wandb.run.name}_lora_weights.pt\")\n",
    "torch.save(optimizer.state_dict(), f\"../models/{wandb.run.name}_optimizer_state.pth\")\n",
    "torch.save(scheduler.state_dict(), f\"../models/{wandb.run.name}_scheduler_state.pth\")"
   ]
  },
  {
   "cell_type": "code",
   "execution_count": 12,
   "metadata": {},
   "outputs": [],
   "source": [
    "# # Load the saved LoRA weights\n",
    "# saved_model_path = f\"../models/{wandb.run.name}_lora_weights.pt\"\n",
    "# lora_state_dict = torch.load(saved_model_path)\n",
    "# print(f\"Loading LoRA weights from {saved_model_path}\")\n",
    "\n",
    "# # Extract configuration\n",
    "# loaded_config = lora_state_dict.get('config', {})\n",
    "# print(f\"Loaded model config: {loaded_config}\")\n",
    "\n",
    "# # Load weights into model\n",
    "# unwrapped_model = accelerator.unwrap_model(model)\n",
    "# for i, layer in enumerate(unwrapped_model.model.layers):\n",
    "#     # Load Q projection LoRA weights\n",
    "#     if f'layer_{i}.self_attn.q_proj.A' in lora_state_dict:\n",
    "#         layer.self_attn.q_proj.A.data = lora_state_dict[f'layer_{i}.self_attn.q_proj.A'].to(layer.self_attn.q_proj.A.device)\n",
    "#         layer.self_attn.q_proj.B.data = lora_state_dict[f'layer_{i}.self_attn.q_proj.B'].to(layer.self_attn.q_proj.B.device)\n",
    "    \n",
    "#     # Load V projection LoRA weights\n",
    "#     if f'layer_{i}.self_attn.v_proj.A' in lora_state_dict:\n",
    "#         layer.self_attn.v_proj.A.data = lora_state_dict[f'layer_{i}.self_attn.v_proj.A'].to(layer.self_attn.v_proj.A.device)\n",
    "#         layer.self_attn.v_proj.B.data = lora_state_dict[f'layer_{i}.self_attn.v_proj.B'].to(layer.self_attn.v_proj.B.device)\n",
    "\n",
    "# print(\"LoRA weights loaded successfully\")"
   ]
  },
  {
   "cell_type": "code",
   "execution_count": 13,
   "metadata": {},
   "outputs": [],
   "source": [
    "train_losses = np.array(train_losses)\n",
    "val_losses = np.array(val_losses)\n",
    "\n",
    "results = {}\n",
    "\n",
    "results['train_losses'] = train_losses\n",
    "results['val_losses'] = val_losses\n"
   ]
  },
  {
   "cell_type": "code",
   "execution_count": 14,
   "metadata": {},
   "outputs": [
    {
     "data": {
      "image/png": "[encoded data removed]",
      "text/plain": [
       "<Figure size 1200x1200 with 2 Axes>"
      ]
     },
     "metadata": {},
     "output_type": "display_data"
    }
   ],
   "source": [
    "fig, ax = plt.subplots(2, 1, figsize=(12, 12))\n",
    "ax[0].plot(train_losses[:, 1], train_losses[:, 0], label=\"Training Loss\")\n",
    "ax[1].plot(val_losses[:, 1], val_losses[:, 0], label=\"Validation Loss\")\n",
    "ax[0].set_xlabel(\"Steps\")\n",
    "ax[0].set_ylabel(\"Loss\")\n",
    "ax[0].legend()\n",
    "ax[1].set_xlabel(\"Steps\")\n",
    "ax[1].set_ylabel(\"Loss\")\n",
    "ax[1].legend()\n",
    "plt.savefig(f\"../plots/{wandb.run.name}_loss.png\")\n",
    "plt.show()"
   ]
  },
  {
   "cell_type": "code",
   "execution_count": 15,
   "metadata": {},
   "outputs": [
    {
     "data": {
      "text/plain": [
       "<bound method Module.eval of Qwen2ForCausalLM(\n",
       "  (model): Qwen2Model(\n",
       "    (embed_tokens): Embedding(151936, 896)\n",
       "    (layers): ModuleList(\n",
       "      (0-23): 24 x Qwen2DecoderLayer(\n",
       "        (self_attn): Qwen2Attention(\n",
       "          (q_proj): LoRALinear(\n",
       "            (original_linear): Linear(in_features=896, out_features=896, bias=True)\n",
       "          )\n",
       "          (k_proj): Linear(in_features=896, out_features=128, bias=True)\n",
       "          (v_proj): LoRALinear(\n",
       "            (original_linear): Linear(in_features=896, out_features=128, bias=True)\n",
       "          )\n",
       "          (o_proj): Linear(in_features=896, out_features=896, bias=False)\n",
       "        )\n",
       "        (mlp): Qwen2MLP(\n",
       "          (gate_proj): Linear(in_features=896, out_features=4864, bias=False)\n",
       "          (up_proj): Linear(in_features=896, out_features=4864, bias=False)\n",
       "          (down_proj): Linear(in_features=4864, out_features=896, bias=False)\n",
       "          (act_fn): SiLU()\n",
       "        )\n",
       "        (input_layernorm): Qwen2RMSNorm((896,), eps=1e-06)\n",
       "        (post_attention_layernorm): Qwen2RMSNorm((896,), eps=1e-06)\n",
       "      )\n",
       "    )\n",
       "    (norm): Qwen2RMSNorm((896,), eps=1e-06)\n",
       "    (rotary_emb): Qwen2RotaryEmbedding()\n",
       "  )\n",
       "  (lm_head): Linear(in_features=896, out_features=151936, bias=True)\n",
       ")>"
      ]
     },
     "execution_count": 15,
     "metadata": {},
     "output_type": "execute_result"
    }
   ],
   "source": [
    "model.eval"
   ]
  },
  {
   "cell_type": "code",
   "execution_count": 16,
   "metadata": {},
   "outputs": [],
   "source": [
    "torch.cuda.empty_cache()"
   ]
  },
  {
   "cell_type": "code",
   "execution_count": 17,
   "metadata": {},
   "outputs": [],
   "source": [
    "accelerator = Accelerator()\n",
    "model, test_loader = accelerator.prepare(model, test_loader)"
   ]
  },
  {
   "cell_type": "code",
   "execution_count": 18,
   "metadata": {},
   "outputs": [
    {
     "name": "stderr",
     "output_type": "stream",
     "text": [
      "  0%|          | 0/100 [01:01<?, ?it/s]\n"
     ]
    }
   ],
   "source": [
    "model.eval()\n",
    "with torch.no_grad():    \n",
    "    for (batch,) in tqdm(test_loader):\n",
    "        outputs = model.generate(batch, attention_mask = torch.ones_like(batch), max_new_tokens=max_ctx_length*2)\n",
    "        prediction = tokenizer.decode(outputs[0], skip_special_tokens=True)\n",
    "        prediction_decoded = decoding(prediction)\n",
    "        break\n",
    "\n",
    "test_decoded = decoding(test_texts_all[0])"
   ]
  },
  {
   "cell_type": "code",
   "execution_count": null,
   "metadata": {},
   "outputs": [],
   "source": [
    "results['prediction_decoded'] = prediction_decoded\n",
    "results['test_decoded'] = test_decoded"
   ]
  },
  {
   "cell_type": "code",
   "execution_count": 19,
   "metadata": {},
   "outputs": [],
   "source": [
    "import h5py\n",
    "with h5py.File(\"lotka_volterra_data.h5\", \"r\") as f:\n",
    "    trajectories = f[\"trajectories\"][:]\n",
    "    time_points = f[\"time\"][:]\n",
    "    prey = trajectories[:, :, 0]\n",
    "    predator = trajectories[:, :, 1]\n",
    "    times = time_points[:]\n",
    "    \n",
    "def scaler(prey, predator, alpha, decimals=3):\n",
    "    prey = np.array(prey)\n",
    "    predator = np.array(predator)\n",
    "    data = np.stack([prey, predator], axis=-1)\n",
    "    rescaled = data/alpha * 10\n",
    "    return np.round(rescaled, decimals = decimals)\n",
    "\n",
    "def encoding(prey, predator):\n",
    "    series = np.column_stack((prey, predator))\n",
    "    encoded = ';'.join([','.join(map(str, row)) for row in series])\n",
    "    return encoded\n",
    "\n",
    "dataset = scaler(prey, predator, 5)\n",
    "encoded = [encoding(prey, predator) for prey, predator in zip(dataset[:,0], dataset[:,1])]"
   ]
  },
  {
   "cell_type": "code",
   "execution_count": 20,
   "metadata": {},
   "outputs": [
    {
     "data": {
      "image/png": "[encoded data removed]",
      "text/plain": [
       "<Figure size 1200x600 with 1 Axes>"
      ]
     },
     "metadata": {},
     "output_type": "display_data"
    }
   ],
   "source": [
    "colours = ['#7b3294', '#c2a5cf', '#a6dba0', '#008837']\n",
    "_, _, time = get_dataset()\n",
    "fig, ax = plt.subplots(figsize=(12, 6))\n",
    "ax.plot(time, prediction_decoded[0], label='Prey (predicted)', linestyle=\"--\", zorder=100, color=colours[0], linewidth=2)\n",
    "ax.plot(time, prediction_decoded[1], label='Predator (predicted)', linestyle=\"--\", zorder=100, color=colours[3], linewidth=2)\n",
    "ax.plot(time, test_decoded[0], label='Prey (true)', color=colours[1], linewidth=2)\n",
    "ax.plot(time, test_decoded[1], label='Predator (true)', color=colours[2], linewidth=2)\n",
    "ax.axvline(time[79], color='black', linestyle='--', label='Prediction start')\n",
    "ax.set_xlabel('Time')\n",
    "ax.set_ylabel('Population')\n",
    "ax.legend(fontsize=15, ncol=5, bbox_to_anchor=(0.5, 1.1), loc='center')\n",
    "plt.savefig(f'../plots/{wandb.run.name}_inspection.png')\n",
    "plt.show()\n"
   ]
  },
  {
   "cell_type": "code",
   "execution_count": 21,
   "metadata": {},
   "outputs": [
    {
     "data": {
      "image/png": "[encoded data removed]",
      "text/plain": [
       "<Figure size 1000x500 with 1 Axes>"
      ]
     },
     "metadata": {},
     "output_type": "display_data"
    }
   ],
   "source": [
    "running_mse_prey = running_mse(prediction_decoded[0], test_decoded[0])\n",
    "running_mse_predator = running_mse(prediction_decoded[1], test_decoded[1])\n",
    "fig, ax = plt.subplots(figsize=(10, 5))\n",
    "# ax.set_title(f\"Running MSE\")\n",
    "ax.plot(times, running_mse_prey, label=\"Prey\", color=colours[0])\n",
    "ax.plot(times, running_mse_predator, label=\"Predator\", color=colours[3])\n",
    "ax.set_xlabel(\"Time\")\n",
    "ax.set_ylabel(\"Running MSE\")\n",
    "ax.legend()\n",
    "plt.savefig(f\"../plots/{wandb.run.name}_running_mse.png\")\n",
    "plt.show()"
   ]
  },
  {
   "cell_type": "code",
   "execution_count": null,
   "metadata": {},
   "outputs": [
    {
     "name": "stdout",
     "output_type": "stream",
     "text": [
      "MEAN PREY SQUARED ERROR: 0.17490840000000002\n",
      "MEAN PREY ABSOLUTE ERROR: 0.10702\n",
      "R2 PREY SCORE: 0.9552232727638801\n",
      "MEAN PREDATOR SQUARED ERROR: 0.013529649999999999\n",
      "MEAN PREDATOR ABSOLUTE ERROR: 0.03277\n",
      "R2 PREDATOR SCORE: 0.9676410681096241\n"
     ]
    },
    {
     "data": {
      "text/plain": [
       "['../results/lora_run_deep-sky-30.pkl']"
      ]
     },
     "execution_count": 22,
     "metadata": {},
     "output_type": "execute_result"
    }
   ],
   "source": [
    "pred_prey = prediction_decoded[0]\n",
    "pred_predator = prediction_decoded[1]\n",
    "actual_prey = test_decoded[0]\n",
    "actual_predator = test_decoded[1]\n",
    "\n",
    "mean_prey_squared_error = mean_squared_error(pred_prey, actual_prey)\n",
    "mean_prey_absolute_error = mean_absolute_error(pred_prey, actual_prey)\n",
    "r2_prey_score = r2_score(pred_prey, actual_prey)\n",
    "mean_predator_squared_error = mean_squared_error(pred_predator, actual_predator)\n",
    "mean_predator_absolute_error = mean_absolute_error(pred_predator, actual_predator)\n",
    "r2_predator_score = r2_score(pred_predator, actual_predator)\n",
    "\n",
    "print(\"MEAN PREY SQUARED ERROR:\", mean_prey_squared_error)\n",
    "print(\"MEAN PREY ABSOLUTE ERROR:\", mean_prey_absolute_error)\n",
    "print(\"R2 PREY SCORE:\", r2_prey_score)\n",
    "print(\"MEAN PREDATOR SQUARED ERROR:\", mean_predator_squared_error)\n",
    "print(\"MEAN PREDATOR ABSOLUTE ERROR:\", mean_predator_absolute_error)\n",
    "print(\"R2 PREDATOR SCORE:\", r2_predator_score)\n",
    "\n",
    "results['metrics'] = {\n",
    "    \"mean_prey_squared_error\": mean_prey_squared_error,\n",
    "    \"mean_prey_absolute_error\": mean_prey_absolute_error,\n",
    "    \"r2_prey_score\": r2_prey_score,\n",
    "    \"mean_predator_squared_error\": mean_predator_squared_error,\n",
    "    \"mean_predator_absolute_error\": mean_predator_absolute_error,\n",
    "    \"r2_predator_score\": r2_predator_score,\n",
    "    \"running_mse_prey\": running_mse_prey,\n",
    "    \"running_mse_predator\": running_mse_predator,\n",
    "}\n",
    "\n",
    "joblib.dump(results, f\"../results/lora_run_{wandb.run.name}.pkl\")"
   ]
  },
  {
   "cell_type": "code",
   "execution_count": null,
   "metadata": {},
   "outputs": [],
   "source": []
  },
  {
   "cell_type": "code",
   "execution_count": null,
   "metadata": {},
   "outputs": [],
   "source": []
  }
 ],
 "metadata": {
  "kernelspec": {
   "display_name": "lora",
   "language": "python",
   "name": "python3"
  },
  "language_info": {
   "codemirror_mode": {
    "name": "ipython",
    "version": 3
   },
   "file_extension": ".py",
   "mimetype": "text/x-python",
   "name": "python",
   "nbconvert_exporter": "python",
   "pygments_lexer": "ipython3",
   "version": "3.12.3"
  }
 },
 "nbformat": 4,
 "nbformat_minor": 2
}
