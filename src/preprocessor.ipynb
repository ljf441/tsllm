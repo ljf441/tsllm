{
 "cells": [
  {
   "cell_type": "code",
   "execution_count": 1,
   "metadata": {},
   "outputs": [
    {
     "name": "stderr",
     "output_type": "stream",
     "text": [
      "/home/ljf1/dis/lora/lib/python3.12/site-packages/tqdm/auto.py:21: TqdmWarning: IProgress not found. Please update jupyter and ipywidgets. See https://ipywidgets.readthedocs.io/en/stable/user_install.html\n",
      "  from .autonotebook import tqdm as notebook_tqdm\n"
     ]
    }
   ],
   "source": [
    "import h5py\n",
    "import numpy as np\n",
    "import torch\n",
    "from transformers import AutoModelForCausalLM, AutoTokenizer\n",
    "import joblib\n",
    "from sklearn.metrics import mean_squared_error, mean_absolute_error, r2_score\n",
    "import pandas as pd\n",
    "import tqdm"
   ]
  },
  {
   "cell_type": "code",
   "execution_count": 2,
   "metadata": {},
   "outputs": [],
   "source": [
    "def get_dataset(system_id=0, points=1000):\n",
    "\n",
    "    with h5py.File(\"lotka_volterra_data.h5\", \"r\") as f:\n",
    "        trajectories = f[\"trajectories\"][:]\n",
    "        time_points = f[\"time\"][:]\n",
    "        prey = trajectories[system_id, :points, 0]\n",
    "        predator = trajectories[system_id, :points, 1]\n",
    "        times = time_points[:points]\n",
    "\n",
    "    return prey, predator, times"
   ]
  },
  {
   "cell_type": "code",
   "execution_count": 3,
   "metadata": {},
   "outputs": [],
   "source": [
    "def load_qwen():\n",
    "    model_name = \"Qwen/Qwen2.5-0.5B-Instruct\"\n",
    "    tokenizer = AutoTokenizer.from_pretrained(model_name, trust_remote_code=True)\n",
    "    model = AutoModelForCausalLM.from_pretrained(model_name, trust_remote_code=True)\n",
    "\n",
    "    # Freeze all parameters except LM head bias\n",
    "    for param in model.parameters():\n",
    "        param.requires_grad = False\n",
    "\n",
    "    # Add trainable bias to logits\n",
    "    assert model.lm_head.bias is None\n",
    "    model.lm_head.bias = torch.nn.Parameter(\n",
    "        torch.zeros(model.config.vocab_size, device=model.device)\n",
    "    )\n",
    "    model.lm_head.bias.requires_grad = True\n",
    "\n",
    "    return model, tokenizer"
   ]
  },
  {
   "cell_type": "code",
   "execution_count": 4,
   "metadata": {},
   "outputs": [],
   "source": [
    "def alpha_scaler(data, alpha, decimals=3):\n",
    "    data = np.array(data)\n",
    "    alpha_percentile = np.percentile(data, alpha)\n",
    "    rescale = data/alpha_percentile\n",
    "    return np.round(rescale, decimals = decimals)   "
   ]
  },
  {
   "cell_type": "code",
   "execution_count": 5,
   "metadata": {},
   "outputs": [],
   "source": [
    "def encoding(prey, predator):\n",
    "    series = np.column_stack((prey, predator))\n",
    "    encoded = ';'.join([','.join(map(str, row)) for row in series])\n",
    "    return encoded\n",
    "\n",
    "def decoding(data):\n",
    "    time_steps = data.split(';')\n",
    "    decoded = np.array([list(map(float, step.split(','))) for step in time_steps if step.strip()])\n",
    "    prey = decoded[:, 0]\n",
    "    predator = decoded[:, 1]\n",
    "    return prey, predator"
   ]
  },
  {
   "cell_type": "code",
   "execution_count": 6,
   "metadata": {},
   "outputs": [
    {
     "name": "stderr",
     "output_type": "stream",
     "text": [
      "Sliding Window Attention is enabled but not implemented for `sdpa`; unexpected results may be encountered.\n"
     ]
    }
   ],
   "source": [
    "model, tokenizer = load_qwen()\n",
    "\n",
    "def process_data(system_id=0, points=1000, alpha=40, decimals=3):\n",
    "    prey, predator, times = get_dataset(system_id=system_id, points=points)\n",
    "    new_prey = alpha_scaler(prey, alpha=alpha, decimals=decimals)\n",
    "    new_predator = alpha_scaler(predator, alpha=alpha, decimals=decimals)\n",
    "    encoded = encoding(new_prey, new_predator)\n",
    "    tokenized_data = tokenizer(encoded, return_tensors=\"pt\")\n",
    "    return tokenized_data, encoded, np.column_stack((prey, predator, new_prey, new_predator)), times"
   ]
  },
  {
   "cell_type": "code",
   "execution_count": 7,
   "metadata": {},
   "outputs": [
    {
     "name": "stdout",
     "output_type": "stream",
     "text": [
      "Preprocessed data: 1.303,1.413;1.016,1.058;0.936,0.766\n",
      "Tokenized results: [16, 13, 18, 15, 18, 11, 16, 13, 19, 16, 18, 26, 16, 13, 15, 16, 21, 11, 16, 13, 15, 20, 23, 26, 15, 13, 24, 18, 21, 11, 15, 13, 22, 21, 21]\n"
     ]
    }
   ],
   "source": [
    "example_tokenized_data, example_preprocessed_data = process_data(points=3)[:2]\n",
    "print(\"Preprocessed data:\", example_preprocessed_data)\n",
    "print(\"Tokenized results:\", example_tokenized_data[\"input_ids\"].tolist()[0])"
   ]
  },
  {
   "cell_type": "code",
   "execution_count": 8,
   "metadata": {},
   "outputs": [
    {
     "data": {
      "text/plain": [
       "['tokenized_data.pkl']"
      ]
     },
     "execution_count": 8,
     "metadata": {},
     "output_type": "execute_result"
    }
   ],
   "source": [
    "tokenized_data, preprocessed_data, combined_data, times = process_data()\n",
    "joblib.dump(tokenized_data, \"tokenized_data.pkl\")"
   ]
  },
  {
   "cell_type": "code",
   "execution_count": 9,
   "metadata": {},
   "outputs": [],
   "source": [
    "loaded_data = joblib.load(\"tokenized_data.pkl\")\n",
    "with torch.no_grad():\n",
    "    output = model.generate(loaded_data[\"input_ids\"], attention_mask = loaded_data[\"attention_mask\"], max_length = loaded_data[\"input_ids\"].shape[1] + 1)\n",
    "prediction = tokenizer.decode(output[0])\n",
    "\n",
    "pred_prey, pred_predator = decoding(prediction)\n",
    "actual_prey, actual_predator = combined_data[:,2], combined_data[:,3]"
   ]
  },
  {
   "cell_type": "code",
   "execution_count": 10,
   "metadata": {},
   "outputs": [
    {
     "name": "stdout",
     "output_type": "stream",
     "text": [
      "MEAN PREY SQUARED ERROR: 1.1251086102890977e-15\n",
      "MEAN PREY ABSOLUTE ERROR: 2.6926994319831364e-08\n",
      "R2 PREY SCORE: 0.9999999999999922\n",
      "MEAN PREDATOR SQUARED ERROR: 9.336275755370366e-16\n",
      "MEAN PREDATOR ABSOLUTE ERROR: 2.517938614277071e-08\n",
      "R2 PREDATOR SCORE: 0.999999999999995\n"
     ]
    }
   ],
   "source": [
    "print(\"MEAN PREY SQUARED ERROR:\", mean_squared_error(pred_prey, actual_prey))\n",
    "print(\"MEAN PREY ABSOLUTE ERROR:\", mean_absolute_error(pred_prey, actual_prey))\n",
    "print(\"R2 PREY SCORE:\", r2_score(pred_prey, actual_prey))\n",
    "print(\"MEAN PREDATOR SQUARED ERROR:\", mean_squared_error(pred_predator, actual_predator))\n",
    "print(\"MEAN PREDATOR ABSOLUTE ERROR:\", mean_absolute_error(pred_predator, actual_predator))\n",
    "print(\"R2 PREDATOR SCORE:\", r2_score(pred_predator, actual_predator))"
   ]
  },
  {
   "cell_type": "code",
   "execution_count": null,
   "metadata": {},
   "outputs": [],
   "source": [
    "def calculate_metrics(alpha=40, decimals=3):\n",
    "    prey_mse_list = []\n",
    "    prey_mae_list = []\n",
    "    prey_r2_list = []\n",
    "    predator_mse_list = []\n",
    "    predator_mae_list = []\n",
    "    predator_r2_list = []\n",
    "\n",
    "    for i in tqdm.tqdm(range(1000), desc=\"calculating\", unit=\"it\"):\n",
    "        \n",
    "        tokenized_data, preprocessed_data, combined_data, times = process_data(system_id = i, alpha=alpha, decimals=decimals)\n",
    "        \n",
    "        with torch.no_grad():\n",
    "            output = model.generate(tokenized_data[\"input_ids\"], attention_mask = tokenized_data[\"attention_mask\"], max_length = tokenized_data[\"input_ids\"].shape[1] + 1)\n",
    "        prediction = tokenizer.decode(output[0])\n",
    "\n",
    "        pred_prey, pred_predator = decoding(prediction)\n",
    "        actual_prey, actual_predator = combined_data[:,2], combined_data[:,3]\n",
    "\n",
    "        prey_mse = mean_squared_error(pred_prey, actual_prey)\n",
    "        prey_mae = mean_absolute_error(pred_prey, actual_prey)\n",
    "        prey_r2 = r2_score(pred_prey, actual_prey)\n",
    "        predator_mse = mean_squared_error(pred_predator, actual_predator)\n",
    "        predator_mae = mean_absolute_error(pred_predator, actual_predator)\n",
    "        predator_r2 = r2_score(pred_predator, actual_predator)\n",
    "\n",
    "        prey_mse_list.append(prey_mse)\n",
    "        prey_mae_list.append(prey_mae)\n",
    "        prey_r2_list.append(prey_r2)\n",
    "        predator_mse_list.append(predator_mse)\n",
    "        predator_mae_list.append(predator_mae)\n",
    "        predator_r2_list.append(predator_r2)\n",
    "\n",
    "    metrics_df = pd.DataFrame({\n",
    "        'prey_mse': prey_mse_list,\n",
    "        'prey_mae': prey_mae_list,\n",
    "        'prey_r2': prey_r2_list,\n",
    "        'predator_mse': predator_mse_list,\n",
    "        'predator_mae': predator_mae_list,\n",
    "        'predator_r2': predator_r2_list\n",
    "    })\n",
    "\n",
    "    metrics_df.to_csv(\"metrics_results.csv\", index=False)\n",
    "\n",
    "    return metrics_df"
   ]
  },
  {
   "cell_type": "code",
   "execution_count": 14,
   "metadata": {},
   "outputs": [
    {
     "name": "stderr",
     "output_type": "stream",
     "text": [
      "calculating: 100%|██████████| 1000/1000 [1:01:32<00:00,  3.69s/iteration]\n"
     ]
    }
   ],
   "source": [
    "metrics_df = calculate_metrics()"
   ]
  },
  {
   "cell_type": "code",
   "execution_count": 15,
   "metadata": {},
   "outputs": [
    {
     "data": {
      "text/html": [
       "<div>\n",
       "<style scoped>\n",
       "    .dataframe tbody tr th:only-of-type {\n",
       "        vertical-align: middle;\n",
       "    }\n",
       "\n",
       "    .dataframe tbody tr th {\n",
       "        vertical-align: top;\n",
       "    }\n",
       "\n",
       "    .dataframe thead th {\n",
       "        text-align: right;\n",
       "    }\n",
       "</style>\n",
       "<table border=\"1\" class=\"dataframe\">\n",
       "  <thead>\n",
       "    <tr style=\"text-align: right;\">\n",
       "      <th></th>\n",
       "      <th>prey_mse</th>\n",
       "      <th>prey_mae</th>\n",
       "      <th>prey_r2</th>\n",
       "      <th>predator_mse</th>\n",
       "      <th>predator_mae</th>\n",
       "      <th>predator_r2</th>\n",
       "    </tr>\n",
       "  </thead>\n",
       "  <tbody>\n",
       "    <tr>\n",
       "      <th>0</th>\n",
       "      <td>1.125109e-15</td>\n",
       "      <td>2.692699e-08</td>\n",
       "      <td>1.0</td>\n",
       "      <td>9.336276e-16</td>\n",
       "      <td>2.517939e-08</td>\n",
       "      <td>1.000000</td>\n",
       "    </tr>\n",
       "    <tr>\n",
       "      <th>1</th>\n",
       "      <td>8.248190e-16</td>\n",
       "      <td>2.422094e-08</td>\n",
       "      <td>1.0</td>\n",
       "      <td>6.399947e-07</td>\n",
       "      <td>8.002496e-05</td>\n",
       "      <td>0.999985</td>\n",
       "    </tr>\n",
       "    <tr>\n",
       "      <th>2</th>\n",
       "      <td>8.022380e-16</td>\n",
       "      <td>2.317905e-08</td>\n",
       "      <td>1.0</td>\n",
       "      <td>9.489099e-16</td>\n",
       "      <td>2.531528e-08</td>\n",
       "      <td>1.000000</td>\n",
       "    </tr>\n",
       "    <tr>\n",
       "      <th>3</th>\n",
       "      <td>4.945630e-15</td>\n",
       "      <td>4.566669e-08</td>\n",
       "      <td>1.0</td>\n",
       "      <td>2.583567e-15</td>\n",
       "      <td>3.705502e-08</td>\n",
       "      <td>1.000000</td>\n",
       "    </tr>\n",
       "    <tr>\n",
       "      <th>4</th>\n",
       "      <td>7.596991e-16</td>\n",
       "      <td>2.123952e-08</td>\n",
       "      <td>1.0</td>\n",
       "      <td>1.325676e-14</td>\n",
       "      <td>4.559040e-08</td>\n",
       "      <td>1.000000</td>\n",
       "    </tr>\n",
       "    <tr>\n",
       "      <th>...</th>\n",
       "      <td>...</td>\n",
       "      <td>...</td>\n",
       "      <td>...</td>\n",
       "      <td>...</td>\n",
       "      <td>...</td>\n",
       "      <td>...</td>\n",
       "    </tr>\n",
       "    <tr>\n",
       "      <th>995</th>\n",
       "      <td>9.258569e-16</td>\n",
       "      <td>2.269864e-08</td>\n",
       "      <td>1.0</td>\n",
       "      <td>1.346868e-15</td>\n",
       "      <td>2.665699e-08</td>\n",
       "      <td>1.000000</td>\n",
       "    </tr>\n",
       "    <tr>\n",
       "      <th>996</th>\n",
       "      <td>1.078725e-15</td>\n",
       "      <td>2.629519e-08</td>\n",
       "      <td>1.0</td>\n",
       "      <td>1.001742e-15</td>\n",
       "      <td>2.654076e-08</td>\n",
       "      <td>1.000000</td>\n",
       "    </tr>\n",
       "    <tr>\n",
       "      <th>997</th>\n",
       "      <td>2.132516e-15</td>\n",
       "      <td>3.430128e-08</td>\n",
       "      <td>1.0</td>\n",
       "      <td>1.401789e-15</td>\n",
       "      <td>2.796412e-08</td>\n",
       "      <td>1.000000</td>\n",
       "    </tr>\n",
       "    <tr>\n",
       "      <th>998</th>\n",
       "      <td>2.161327e-15</td>\n",
       "      <td>3.474712e-08</td>\n",
       "      <td>1.0</td>\n",
       "      <td>3.677341e-15</td>\n",
       "      <td>4.023314e-08</td>\n",
       "      <td>1.000000</td>\n",
       "    </tr>\n",
       "    <tr>\n",
       "      <th>999</th>\n",
       "      <td>7.645735e-16</td>\n",
       "      <td>2.276897e-08</td>\n",
       "      <td>1.0</td>\n",
       "      <td>8.867391e-16</td>\n",
       "      <td>2.402306e-08</td>\n",
       "      <td>1.000000</td>\n",
       "    </tr>\n",
       "  </tbody>\n",
       "</table>\n",
       "<p>1000 rows × 6 columns</p>\n",
       "</div>"
      ],
      "text/plain": [
       "         prey_mse      prey_mae  prey_r2  predator_mse  predator_mae  \\\n",
       "0    1.125109e-15  2.692699e-08      1.0  9.336276e-16  2.517939e-08   \n",
       "1    8.248190e-16  2.422094e-08      1.0  6.399947e-07  8.002496e-05   \n",
       "2    8.022380e-16  2.317905e-08      1.0  9.489099e-16  2.531528e-08   \n",
       "3    4.945630e-15  4.566669e-08      1.0  2.583567e-15  3.705502e-08   \n",
       "4    7.596991e-16  2.123952e-08      1.0  1.325676e-14  4.559040e-08   \n",
       "..            ...           ...      ...           ...           ...   \n",
       "995  9.258569e-16  2.269864e-08      1.0  1.346868e-15  2.665699e-08   \n",
       "996  1.078725e-15  2.629519e-08      1.0  1.001742e-15  2.654076e-08   \n",
       "997  2.132516e-15  3.430128e-08      1.0  1.401789e-15  2.796412e-08   \n",
       "998  2.161327e-15  3.474712e-08      1.0  3.677341e-15  4.023314e-08   \n",
       "999  7.645735e-16  2.276897e-08      1.0  8.867391e-16  2.402306e-08   \n",
       "\n",
       "     predator_r2  \n",
       "0       1.000000  \n",
       "1       0.999985  \n",
       "2       1.000000  \n",
       "3       1.000000  \n",
       "4       1.000000  \n",
       "..           ...  \n",
       "995     1.000000  \n",
       "996     1.000000  \n",
       "997     1.000000  \n",
       "998     1.000000  \n",
       "999     1.000000  \n",
       "\n",
       "[1000 rows x 6 columns]"
      ]
     },
     "execution_count": 15,
     "metadata": {},
     "output_type": "execute_result"
    }
   ],
   "source": [
    "metrics_df"
   ]
  },
  {
   "cell_type": "code",
   "execution_count": 16,
   "metadata": {},
   "outputs": [],
   "source": [
    "# def calculate_flops(batch_size, sequence_length, embedding_dim, num_heads, num_layers):\n",
    "#     token_embedding = batch_size * sequence_length * (embedding_dim * 2 - 1)\n",
    "    \n",
    "#     attention = (batch_size * sequence_length * (embedding_dim * 2 - 1)*3 + \n",
    "#                  batch_size * num_heads * sequence_length**2 * 2 )"
   ]
  },
  {
   "cell_type": "code",
   "execution_count": null,
   "metadata": {},
   "outputs": [],
   "source": []
  }
 ],
 "metadata": {
  "kernelspec": {
   "display_name": "lora",
   "language": "python",
   "name": "python3"
  },
  "language_info": {
   "codemirror_mode": {
    "name": "ipython",
    "version": 3
   },
   "file_extension": ".py",
   "mimetype": "text/x-python",
   "name": "python",
   "nbconvert_exporter": "python",
   "pygments_lexer": "ipython3",
   "version": "3.12.3"
  }
 },
 "nbformat": 4,
 "nbformat_minor": 2
}
