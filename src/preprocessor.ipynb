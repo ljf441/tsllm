{
 "cells": [
  {
   "cell_type": "code",
   "execution_count": 22,
   "metadata": {},
   "outputs": [],
   "source": [
    "import h5py\n",
    "import numpy as np\n",
    "import torch\n",
    "from transformers import AutoModelForCausalLM, AutoTokenizer\n",
    "import joblib\n",
    "from sklearn.metrics import mean_squared_error, mean_absolute_error, mean_absolute_percentage_error, root_mean_squared_error\n",
    "import pandas as pd\n",
    "import tqdm\n",
    "import matplotlib.pyplot as plt\n",
    "from sklearn.model_selection import train_test_split\n",
    "from torch.utils.data import DataLoader, TensorDataset\n",
    "from preprocessor import get_dataset, get_and_process_data, decoding, load_and_process_example\n",
    "from qwen import load_qwen\n",
    "import joblib"
   ]
  },
  {
   "cell_type": "code",
   "execution_count": 2,
   "metadata": {},
   "outputs": [],
   "source": [
    "#for matplotlib plots\n",
    "SMALL_SIZE = 15+5\n",
    "MEDIUM_SIZE = 20+5\n",
    "BIGGER_SIZE = 25+5\n",
    "\n",
    "plt.rc('font', size=SMALL_SIZE)\n",
    "plt.rc('axes', titlesize=SMALL_SIZE)\n",
    "plt.rc('axes', labelsize=MEDIUM_SIZE)\n",
    "plt.rc('xtick', labelsize=SMALL_SIZE)\n",
    "plt.rc('ytick', labelsize=SMALL_SIZE)\n",
    "plt.rc('legend', fontsize=SMALL_SIZE)\n",
    "plt.rc('figure', titlesize=BIGGER_SIZE)"
   ]
  },
  {
   "cell_type": "code",
   "execution_count": 3,
   "metadata": {},
   "outputs": [
    {
     "name": "stderr",
     "output_type": "stream",
     "text": [
      "Sliding Window Attention is enabled but not implemented for `sdpa`; unexpected results may be encountered.\n"
     ]
    }
   ],
   "source": [
    "model, tokenizer = load_qwen()"
   ]
  },
  {
   "cell_type": "code",
   "execution_count": 4,
   "metadata": {},
   "outputs": [],
   "source": [
    "file_path = 'lotka_volterra_data.h5'"
   ]
  },
  {
   "cell_type": "code",
   "execution_count": 5,
   "metadata": {},
   "outputs": [],
   "source": [
    "def running_mse(prediction, actual):\n",
    "    mse = []\n",
    "    for i in range(len(prediction)):\n",
    "        mse.append(mean_squared_error(prediction[:i+1], actual[:i+1]))\n",
    "    return mse"
   ]
  },
  {
   "cell_type": "code",
   "execution_count": 8,
   "metadata": {},
   "outputs": [
    {
     "name": "stdout",
     "output_type": "stream",
     "text": [
      "Example prey values: [1.1335121  0.55542254] [2.267 1.111]\n",
      "Example predator values: [1.1031258 1.2579137] [2.206 2.516]\n",
      "Preprocessed data: 2.267,2.206;1.111,2.516\n",
      "Tokenized results: [17, 13, 17, 21, 22, 11, 17, 13, 17, 15, 21, 26, 16, 13, 16, 16, 16, 11, 17, 13, 20, 16, 21]\n"
     ]
    }
   ],
   "source": [
    "example_tokenized_data, example_preprocessed_data, example_data, example_times = get_and_process_data(file_path, tokenizer, system_id=700, points=2, alpha=5, decimals=3)\n",
    "print(\"Example prey values:\", np.array(example_data[:,0]), example_data[:,2])\n",
    "print(\"Example predator values:\", np.array(example_data[:,1]), example_data[:,3])\n",
    "print(\"Preprocessed data:\", example_preprocessed_data)\n",
    "print(\"Tokenized results:\", example_tokenized_data[\"input_ids\"].tolist()[0])"
   ]
  },
  {
   "cell_type": "code",
   "execution_count": 9,
   "metadata": {},
   "outputs": [
    {
     "name": "stdout",
     "output_type": "stream",
     "text": [
      "Example prey values: [1.029208  0.7163228 0.4881839] [2.058 1.433 0.976]\n",
      "Example predator values: [0.98331004 1.0607902  1.0347391 ] [1.967 2.122 2.069]\n",
      "Preprocessed data: 2.058,1.967;1.433,2.122\n",
      "Tokenized results: [17, 13, 15, 20, 23, 11, 16, 13, 24, 21, 22, 26, 16, 13, 19, 18, 18, 11, 17, 13, 16, 17, 17]\n"
     ]
    }
   ],
   "source": [
    "example_tokenized_data, example_preprocessed_data, example_data, example_times = load_and_process_example(file_path, tokenizer, points=2, alpha=5, decimals=3, seed=442, id=0)\n",
    "print(\"Example prey values:\", np.array(example_data[:,0][:3]), example_data[:,2][:3])\n",
    "print(\"Example predator values:\", np.array(example_data[:,1][:3]), example_data[:,3][:3])\n",
    "print(\"Preprocessed data:\", example_preprocessed_data)\n",
    "print(\"Tokenized results:\", example_tokenized_data.input_ids[0].tolist())"
   ]
  }
 ],
 "metadata": {
  "kernelspec": {
   "display_name": "lora",
   "language": "python",
   "name": "python3"
  },
  "language_info": {
   "codemirror_mode": {
    "name": "ipython",
    "version": 3
   },
   "file_extension": ".py",
   "mimetype": "text/x-python",
   "name": "python",
   "nbconvert_exporter": "python",
   "pygments_lexer": "ipython3",
   "version": "3.12.3"
  }
 },
 "nbformat": 4,
 "nbformat_minor": 2
}
