{
 "cells": [
  {
   "cell_type": "code",
   "execution_count": 7,
   "metadata": {},
   "outputs": [
    {
     "name": "stdout",
     "output_type": "stream",
     "text": [
      "9.871525e+16\n",
      "True\n"
     ]
    }
   ],
   "source": [
    "from flopper import Flopper\n",
    "\n",
    "flops_list = {}\n",
    "\n",
    "flops_list[('default')] = {}\n",
    "flops = Flopper(512, num_steps_training=4000, batch_size=4, use_lora=True, lora_rank=4)\n",
    "flops_list[('default')]['training'] = flops.compute_flops()\n",
    "flops_list[('default')]['validation'] = (4000//50) * flops.compute_validation()\n",
    "flops_list[('default')]['total'] = flops_list[('default')]['training'] + flops_list[('default')]['validation']\n",
    "\n",
    "for rank in [2, 4, 8]:\n",
    "    for lr in [1e-5, 5e-5, 1e-4]:\n",
    "        flops_list[(rank, lr)] = {}\n",
    "        flops = Flopper(512, num_steps_training=300, batch_size=4, use_lora=True, lora_rank=rank)\n",
    "        flops_list[(rank, lr)]['training'] = flops.compute_flops()\n",
    "        flops_list[(rank, lr)]['validation'] = (300//50) * flops.compute_validation()\n",
    "        flops_list[(rank, lr)]['total'] = flops_list[(rank, lr)]['training'] + flops_list[(rank, lr)]['validation']\n",
    "\n",
    "for ctx in [128, 512, 768]:\n",
    "    flops_list[(ctx)] = {}\n",
    "    flops = Flopper(ctx, num_steps_training=300, batch_size=4, use_lora=True, lora_rank=8)\n",
    "    flops_list[(ctx)]['training'] = flops.compute_flops()\n",
    "    flops_list[(ctx)]['validation'] = (300//50) * flops.compute_validation()\n",
    "    flops_list[(ctx)]['total'] = flops_list[(ctx)]['training'] + flops_list[(ctx)]['validation']\n",
    "\n",
    "flops_list[('final_run')] = {}\n",
    "flops = Flopper(768, num_steps_training=16000, batch_size=4, use_lora=True, lora_rank=8)\n",
    "flops_list[('final_run')]['training'] = flops.compute_flops()\n",
    "flops_list[('final_run')]['validation'] = (16000//50) * flops.compute_validation()\n",
    "flops_list[('final_run')]['total'] = flops_list[('final_run')]['training'] + flops_list[('final_run')]['validation']\n",
    "\n",
    "total_hyper_sum = 0\n",
    "\n",
    "for key in flops_list:\n",
    "    total_hyper_sum += flops_list[key]['total']\n",
    "\n",
    "print(f\"{total_hyper_sum:4e}\")\n",
    "print(total_hyper_sum < 1e17)"
   ]
  },
  {
   "cell_type": "code",
   "execution_count": null,
   "metadata": {},
   "outputs": [],
   "source": []
  }
 ],
 "metadata": {
  "kernelspec": {
   "display_name": "project",
   "language": "python",
   "name": "python3"
  },
  "language_info": {
   "codemirror_mode": {
    "name": "ipython",
    "version": 3
   },
   "file_extension": ".py",
   "mimetype": "text/x-python",
   "name": "python",
   "nbconvert_exporter": "python",
   "pygments_lexer": "ipython3",
   "version": "3.9.12"
  }
 },
 "nbformat": 4,
 "nbformat_minor": 2
}
