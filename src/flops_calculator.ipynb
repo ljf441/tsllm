{
 "cells": [
  {
   "cell_type": "code",
   "execution_count": 1,
   "metadata": {},
   "outputs": [],
   "source": [
    "from flopper import Flopper\n",
    "\n",
    "flops_list = {}\n",
    "\n",
    "flops_list[('untrained')] = {}\n",
    "flops = Flopper(512, num_steps_training=0, batch_size=1, use_lora=False)\n",
    "flops_list[('untrained')]['inference'] = 4*flops.compute_inference()\n",
    "flops_list[('untrained')]['total'] = flops_list[('untrained')]['inference']\n",
    "\n",
    "\n",
    "flops_list[('default')] = {}\n",
    "flops = Flopper(512, num_steps_training=3000, batch_size=4, use_lora=True, lora_rank=4)\n",
    "flops_list[('default')]['training'] = flops.compute_flops()\n",
    "flops_list[('default')]['validation'] = (3000//50) * flops.compute_validation()\n",
    "flops_list[('default')]['inference'] = 4*flops.compute_inference()\n",
    "flops_list[('default')]['total'] = flops_list[('default')]['training'] + flops_list[('default')]['validation'] + flops_list[('default')]['inference']\n",
    "\n",
    "for rank in [2, 4, 8]:\n",
    "    for lr in [1e-5, 5e-5, 1e-4]:\n",
    "        flops_list[(rank, lr)] = {}\n",
    "        flops = Flopper(512, num_steps_training=300, batch_size=4, use_lora=True, lora_rank=rank)\n",
    "        flops_list[(rank, lr)]['training'] = flops.compute_flops()\n",
    "        flops_list[(rank, lr)]['validation'] = (300//50) * flops.compute_validation()\n",
    "        flops_list[(rank, lr)]['total'] = flops_list[(rank, lr)]['training'] + flops_list[(rank, lr)]['validation']\n",
    "\n",
    "for ctx in [128, 512, 768]:\n",
    "    flops_list[(ctx)] = {}\n",
    "    flops = Flopper(ctx, num_steps_training=300, batch_size=4, use_lora=True, lora_rank=8)\n",
    "    flops_list[(ctx)]['training'] = flops.compute_flops()\n",
    "    flops_list[(ctx)]['validation'] = (300//50) * flops.compute_validation()\n",
    "    flops_list[(ctx)]['total'] = flops_list[(ctx)]['training'] + flops_list[(ctx)]['validation']\n",
    "\n",
    "flops_list[('final_run')] = {}\n",
    "flops = Flopper(768, num_steps_training=15000, batch_size=4, use_lora=True, lora_rank=8)\n",
    "flops_list[('final_run')]['training'] = flops.compute_flops()\n",
    "flops_list[('final_run')]['validation'] = (15000//50) * flops.compute_validation()\n",
    "flops_list[('final_run')]['inference'] = 4*flops.compute_inference()\n",
    "flops_list[('final_run')]['total'] = flops_list[('final_run')]['training'] + flops_list[('final_run')]['validation'] + flops_list[('final_run')]['inference']"
   ]
  },
  {
   "cell_type": "code",
   "execution_count": 2,
   "metadata": {},
   "outputs": [
    {
     "name": "stdout",
     "output_type": "stream",
     "text": [
      "Default inference: 5.416e+12\n",
      "Default total: 5.416e+12\n"
     ]
    }
   ],
   "source": [
    "for key in ['inference', 'total']:\n",
    "    print(f\"Default {key}: {flops_list[('untrained')][key]:.3e}\")"
   ]
  },
  {
   "cell_type": "code",
   "execution_count": 3,
   "metadata": {},
   "outputs": [
    {
     "name": "stdout",
     "output_type": "stream",
     "text": [
      "Default training: 9.812e+15\n",
      "Default validation: 1.308e+14\n",
      "Default inference: 5.416e+12\n",
      "Default total: 9.948e+15\n"
     ]
    }
   ],
   "source": [
    "for key in ['training', 'validation', 'inference', 'total']:\n",
    "    print(f\"Default {key}: {flops_list[('default')][key]:.3e}\")"
   ]
  },
  {
   "cell_type": "code",
   "execution_count": 4,
   "metadata": {},
   "outputs": [
    {
     "name": "stdout",
     "output_type": "stream",
     "text": [
      "Context length training: 2.723e+15\n",
      "Context length validation: 3.631e+13\n",
      "Context length total: 2.759e+15\n"
     ]
    }
   ],
   "source": [
    "training = 0\n",
    "validation = 0\n",
    "total = 0\n",
    "for ctx in [128, 512, 768]:\n",
    "    training += flops_list[(ctx)]['training']\n",
    "    validation += flops_list[(ctx)]['validation']\n",
    "    total += flops_list[(ctx)]['total']\n",
    "\n",
    "print(f\"Context length training: {training:.3e}\")\n",
    "print(f\"Context length validation: {validation:.3e}\")\n",
    "print(f\"Context length total: {total:.3e}\")"
   ]
  },
  {
   "cell_type": "code",
   "execution_count": 5,
   "metadata": {},
   "outputs": [
    {
     "name": "stdout",
     "output_type": "stream",
     "text": [
      "Final run training: 9.812e+15\n",
      "Final run validation: 1.308e+14\n",
      "Final run inference: 5.416e+12\n",
      "Final run total: 9.948e+15\n"
     ]
    }
   ],
   "source": [
    "for key in ['training', 'validation', 'inference', 'total']:\n",
    "    print(f\"Final run {key}: {flops_list[('default')][key]:.3e}\")"
   ]
  },
  {
   "cell_type": "code",
   "execution_count": 6,
   "metadata": {},
   "outputs": [
    {
     "name": "stdout",
     "output_type": "stream",
     "text": [
      "Total training: 9.659e+16\n",
      "Total validation: 1.288e+15\n",
      "Total inference: 1.625e+13\n",
      "Total total: 9.790e+16\n",
      "Within budget: True\n"
     ]
    }
   ],
   "source": [
    "total_training = 0\n",
    "total_validation = 0\n",
    "total_inference = 0\n",
    "total_total = 0\n",
    "for stage in flops_list:\n",
    "    total_training += flops_list[stage].get('training', 0)\n",
    "    total_validation += flops_list[stage].get('validation', 0)\n",
    "    total_inference += flops_list[stage].get('inference', 0)\n",
    "    total_total += flops_list[stage].get('total')\n",
    "\n",
    "print(f\"Total training: {total_training:.3e}\")\n",
    "print(f\"Total validation: {total_validation:.3e}\")\n",
    "print(f\"Total inference: {total_inference:.3e}\")\n",
    "print(f\"Total total: {total_total:.3e}\")\n",
    "print(f\"Within budget: {total_total < 1e17}\")"
   ]
  },
  {
   "cell_type": "code",
   "execution_count": null,
   "metadata": {},
   "outputs": [],
   "source": []
  }
 ],
 "metadata": {
  "kernelspec": {
   "display_name": "lora",
   "language": "python",
   "name": "python3"
  },
  "language_info": {
   "codemirror_mode": {
    "name": "ipython",
    "version": 3
   },
   "file_extension": ".py",
   "mimetype": "text/x-python",
   "name": "python",
   "nbconvert_exporter": "python",
   "pygments_lexer": "ipython3",
   "version": "3.12.3"
  }
 },
 "nbformat": 4,
 "nbformat_minor": 2
}
